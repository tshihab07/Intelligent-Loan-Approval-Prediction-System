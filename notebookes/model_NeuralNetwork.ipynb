{
 "cells": [
  {
   "cell_type": "markdown",
   "id": "95541c7c",
   "metadata": {},
   "source": [
    "# Neural Network Model Development with Fixed Architecture"
   ]
  },
  {
   "cell_type": "markdown",
   "id": "5e8e1e39",
   "metadata": {},
   "source": [
    "## Import Libraries"
   ]
  },
  {
   "cell_type": "code",
   "execution_count": 1,
   "id": "866189e2",
   "metadata": {},
   "outputs": [],
   "source": [
    "# records and calculations\n",
    "import pandas as pd\n",
    "import numpy as np\n",
    "\n",
    "# visualizations\n",
    "import matplotlib.pyplot as plt\n",
    "import seaborn as sns\n",
    "\n",
    "# core ML\n",
    "from sklearn.model_selection import cross_val_score\n",
    "from sklearn.metrics import roc_auc_score, average_precision_score, classification_report, confusion_matrix\n",
    "from sklearn.metrics import roc_curve, auc, accuracy_score, f1_score, precision_score, recall_score\n",
    "from sklearn.preprocessing import StandardScaler\n",
    "from sklearn.pipeline import Pipeline\n",
    "\n",
    "# neural network tools\n",
    "import tensorflow as tf\n",
    "tf.get_logger().setLevel('ERROR')\n",
    "\n",
    "from tensorflow.keras.models import Sequential\n",
    "from tensorflow.keras.layers import Dense, Dropout\n",
    "from tensorflow.keras.optimizers import Adam\n",
    "from tensorflow.keras.callbacks import EarlyStopping\n",
    "from scikeras.wrappers import KerasClassifier\n",
    "tf.random.set_seed(42)\n",
    "\n",
    "# Persistence\n",
    "import joblib\n",
    "import pickle\n",
    "\n",
    "# avoid minor warnings\n",
    "import warnings\n",
    "warnings.filterwarnings('ignore')\n",
    "\n",
    "# read file path\n",
    "from pathlib import Path"
   ]
  },
  {
   "cell_type": "markdown",
   "id": "bc83f88d",
   "metadata": {},
   "source": [
    "## Load Dataset and Saved Artifacts"
   ]
  },
  {
   "cell_type": "code",
   "execution_count": 2,
   "id": "ea81f923",
   "metadata": {},
   "outputs": [],
   "source": [
    "\"\"\" File and Artifacts Directories \"\"\"\n",
    "\n",
    "# dataset path\n",
    "file = Path(r\"../data/CleanedLoanData.csv\")\n",
    "\n",
    "# artifacts path\n",
    "artifacts_dir = Path(r\"../artifacts/feature-selection\")\n",
    "\n",
    "# model performance path\n",
    "model_performance_dir = Path(r\"../artifacts/model-performance\")\n",
    "\n",
    "# models path\n",
    "model_dir = Path(r\"../artifacts/models\")\n"
   ]
  },
  {
   "cell_type": "code",
   "execution_count": 3,
   "id": "4dd0fad9",
   "metadata": {},
   "outputs": [],
   "source": [
    "# laod dataset\n",
    "df = pd.read_csv(file)"
   ]
  },
  {
   "cell_type": "code",
   "execution_count": 4,
   "id": "0caa1724",
   "metadata": {},
   "outputs": [],
   "source": [
    "# feature-target separation\n",
    "x = df.drop(columns=['LoanStatus'])\n",
    "y = df['LoanStatus']"
   ]
  },
  {
   "cell_type": "code",
   "execution_count": 5,
   "id": "5a60d668",
   "metadata": {},
   "outputs": [],
   "source": [
    "# load artifacts\n",
    "x_train = joblib.load(artifacts_dir / \"x_train.pkl\")\n",
    "x_train_scale = joblib.load(artifacts_dir / \"x_train_scaler.pkl\")\n",
    "x_test = joblib.load(artifacts_dir / \"x_test.pkl\")\n",
    "x_test_scale = joblib.load(artifacts_dir / \"x_test_scaler.pkl\")\n",
    "y_train = joblib.load(artifacts_dir / \"y_train.pkl\")\n",
    "y_test = joblib.load(artifacts_dir / \"y_test.pkl\")\n",
    "\n",
    "cv = joblib.load(artifacts_dir / \"cv.pkl\")\n",
    "\n",
    "# configure socring metrics\n",
    "scoring_metrics = 'roc_auc'"
   ]
  },
  {
   "cell_type": "code",
   "execution_count": 6,
   "id": "034caac0",
   "metadata": {},
   "outputs": [],
   "source": [
    "# load performance metrics\n",
    "cross_val_df = pd.read_csv(model_performance_dir / \"a_CrossValidationScore.csv\")                # cross-validation scores\n",
    "model_perf_df = pd.read_csv(model_performance_dir / \"a_ModelsPerformance.csv\")                  # all models performance\n",
    "model_score_df = pd.read_csv(model_performance_dir / \"a_ModelsScores.csv\")                      # all models ranking\n",
    "overfit_df = pd.read_csv(model_performance_dir / \"a_OverfittingAnalysis.csv\")                   # all models overfitting analysis"
   ]
  },
  {
   "cell_type": "markdown",
   "id": "4c33fd99",
   "metadata": {},
   "source": [
    "## Model Training with Fixed Architecture Optimization"
   ]
  },
  {
   "cell_type": "code",
   "execution_count": 7,
   "id": "52a32f3c",
   "metadata": {},
   "outputs": [],
   "source": [
    "# creates and compile a simple feedforward neural network for binary classification\n",
    "def nn_model(input_dim):\n",
    "    model = Sequential([\n",
    "        Dense(64, activation='relu', input_shape=(input_dim,)),\n",
    "        Dropout(0.3),\n",
    "        Dense(32, activation='relu'),\n",
    "        Dropout(0.3),\n",
    "        Dense(1, activation='sigmoid')\n",
    "    ])\n",
    "    model.compile(optimizer=Adam(learning_rate=0.001), loss='binary_crossentropy', metrics=['AUC'], jit_compile=True)\n",
    "    return model"
   ]
  },
  {
   "cell_type": "code",
   "execution_count": 8,
   "id": "096d97b2",
   "metadata": {},
   "outputs": [],
   "source": [
    "def build_nn_model():\n",
    "    return nn_model(x_train_scale.shape[1])"
   ]
  },
  {
   "cell_type": "code",
   "execution_count": 9,
   "id": "4d3d875c",
   "metadata": {},
   "outputs": [],
   "source": [
    "# early stopping callback\n",
    "callback = [EarlyStopping(monitor='val_loss', patience=10, restore_best_weights=True)]\n",
    "\n",
    "# wrapper for NN model\n",
    "nn = KerasClassifier(\n",
    "    model=build_nn_model,\n",
    "    epochs=100,\n",
    "    batch_size=32,\n",
    "    validation_split=0.2,\n",
    "    callbacks=callback,\n",
    "    verbose=0,\n",
    "    random_state=42\n",
    ")"
   ]
  },
  {
   "cell_type": "code",
   "execution_count": 10,
   "id": "38922168",
   "metadata": {},
   "outputs": [],
   "source": [
    "# train and identify the best parameter\n",
    "nn.fit(x_train_scale, y_train)\n",
    "\n",
    "best_model = nn"
   ]
  },
  {
   "cell_type": "markdown",
   "id": "45e425fd",
   "metadata": {},
   "source": [
    "## Apply Model to Make Prediction and Get Probabilities"
   ]
  },
  {
   "cell_type": "code",
   "execution_count": 11,
   "id": "8baf8a64",
   "metadata": {},
   "outputs": [],
   "source": [
    "# get predicted probabilities\n",
    "train_proba = best_model.predict_proba(x_train_scale)[:, 1]\n",
    "test_proba = best_model.predict_proba(x_test_scale)[:, 1]"
   ]
  },
  {
   "cell_type": "code",
   "execution_count": 12,
   "id": "b13b6028",
   "metadata": {},
   "outputs": [],
   "source": [
    "# make prediction on training and test set\n",
    "train_pred = (train_proba > 0.5).astype(int)\n",
    "test_pred = (test_proba > 0.5).astype(int)"
   ]
  },
  {
   "cell_type": "markdown",
   "id": "de8cf5da",
   "metadata": {},
   "source": [
    "## Evaluating Model Performance"
   ]
  },
  {
   "cell_type": "code",
   "execution_count": 13,
   "id": "608a605c",
   "metadata": {},
   "outputs": [],
   "source": [
    "# Training Metrics\n",
    "train_auc_roc = roc_auc_score(y_train, train_proba)             # ROC-AUC score\n",
    "train_auc_pr = average_precision_score(y_train, train_proba)    # average precision\n",
    "train_acc = accuracy_score(y_train, train_pred)                 # accuracy score\n",
    "train_precision = precision_score(y_train, train_pred)          # precision score\n",
    "train_recall = recall_score(y_train, train_pred)                # recall score\n",
    "train_f1 = f1_score(y_train, train_pred)                        # f1 score"
   ]
  },
  {
   "cell_type": "code",
   "execution_count": 14,
   "id": "5bcf841b",
   "metadata": {},
   "outputs": [],
   "source": [
    "# Test Metrics\n",
    "test_auc_roc = roc_auc_score(y_test, test_proba)             # ROC-AUC score\n",
    "test_auc_pr = average_precision_score(y_test, test_proba)    # average precision\n",
    "test_acc = accuracy_score(y_test, test_pred)                 # accuracy score\n",
    "test_precision = precision_score(y_test, test_pred)          # precision score\n",
    "test_recall = recall_score(y_test, test_pred)                # recall score\n",
    "test_f1 = f1_score(y_test, test_pred)                        # f1 score"
   ]
  },
  {
   "cell_type": "markdown",
   "id": "7a7484be",
   "metadata": {},
   "source": [
    "### Performance Report for Training and Test Set"
   ]
  },
  {
   "cell_type": "code",
   "execution_count": 15,
   "id": "3312e885",
   "metadata": {},
   "outputs": [
    {
     "name": "stdout",
     "output_type": "stream",
     "text": [
      "============= Performance on Training Set =============\n",
      "              precision    recall  f1-score   support\n",
      "\n",
      "           0       0.91      0.44      0.59       153\n",
      "           1       0.79      0.98      0.88       335\n",
      "\n",
      "    accuracy                           0.81       488\n",
      "   macro avg       0.85      0.71      0.73       488\n",
      "weighted avg       0.83      0.81      0.79       488\n",
      "\n"
     ]
    }
   ],
   "source": [
    "# classification report for train set\n",
    "print(\"=== Performance on Training Set ===\".center(55, '='))\n",
    "train_report = classification_report(y_train, train_pred)\n",
    "print(train_report)\n"
   ]
  },
  {
   "cell_type": "code",
   "execution_count": 16,
   "id": "db49dbb4",
   "metadata": {},
   "outputs": [
    {
     "name": "stdout",
     "output_type": "stream",
     "text": [
      "=============== Performance on Test Set ===============\n",
      "              precision    recall  f1-score   support\n",
      "\n",
      "           0       0.96      0.64      0.77        39\n",
      "           1       0.86      0.99      0.92        84\n",
      "\n",
      "    accuracy                           0.88       123\n",
      "   macro avg       0.91      0.81      0.84       123\n",
      "weighted avg       0.89      0.88      0.87       123\n",
      "\n"
     ]
    }
   ],
   "source": [
    "# classification report for test set\n",
    "print(\"=== Performance on Test Set ===\".center(55, '='))\n",
    "test_report = classification_report(y_test, test_pred)\n",
    "print(test_report)"
   ]
  },
  {
   "cell_type": "markdown",
   "id": "b6491dac",
   "metadata": {},
   "source": [
    "### Performance Metrics"
   ]
  },
  {
   "cell_type": "code",
   "execution_count": 17,
   "id": "0b88d22a",
   "metadata": {},
   "outputs": [],
   "source": [
    "# model status & gap generalization\n",
    "model_status = 'Good' if test_acc > 0.85 else 'Fair' if test_acc > 0.75 else 'Needs Improvement'\n",
    "generalization = 'Overfitting' if train_acc - test_acc > 0.05 else 'Best Fit'\n",
    "\n",
    "# performance table\n",
    "performance_df = pd.DataFrame({\n",
    "    'Metric': [\n",
    "        'AUC-ROC',\n",
    "        'AUC-PR',\n",
    "        'Precision',\n",
    "        'Recall',\n",
    "        'F1-Score',\n",
    "        'Accuracy',\n",
    "        'Generalization',\n",
    "        'Model Status'\n",
    "    ],\n",
    "    'Training': [\n",
    "        f\"{train_auc_roc:.3f}\",\n",
    "        f\"{train_auc_pr:.3f}\",\n",
    "        f\"{train_precision:.3f}\",\n",
    "        f\"{train_recall:.3f}\",\n",
    "        f\"{train_f1:.3f}\",\n",
    "        f\"{train_acc:.3f}\",\n",
    "        '-',\n",
    "        '-'\n",
    "    ],\n",
    "    'Test': [\n",
    "        f\"{test_auc_roc:.3f}\",\n",
    "        f\"{test_auc_pr:.3f}\",\n",
    "        f\"{test_precision:.3f}\",\n",
    "        f\"{test_recall:.3f}\",\n",
    "        f\"{test_f1:.3f}\",\n",
    "        f\"{test_acc:.3f}\",\n",
    "        '-',\n",
    "        model_status\n",
    "    ],\n",
    "    'Gap/Generalization': [\n",
    "        f\"{abs(train_auc_roc - test_auc_roc):.3f}\",\n",
    "        f\"{abs(train_auc_pr - test_auc_pr):.3f}\",\n",
    "        f\"{abs(train_precision - test_precision):.3f}\",\n",
    "        f\"{abs(train_recall - test_recall):.3f}\",\n",
    "        f\"{abs(train_f1 - test_f1):.3f}\",\n",
    "        f\"{abs(train_acc - test_acc):.3f}\",\n",
    "        generalization,\n",
    "        '-'\n",
    "    ]\n",
    "})"
   ]
  },
  {
   "cell_type": "code",
   "execution_count": 18,
   "id": "b88118fb",
   "metadata": {},
   "outputs": [
    {
     "name": "stdout",
     "output_type": "stream",
     "text": [
      "======== Neural Network Performance Metrics ========\n"
     ]
    },
    {
     "data": {
      "text/html": [
       "<div>\n",
       "<style scoped>\n",
       "    .dataframe tbody tr th:only-of-type {\n",
       "        vertical-align: middle;\n",
       "    }\n",
       "\n",
       "    .dataframe tbody tr th {\n",
       "        vertical-align: top;\n",
       "    }\n",
       "\n",
       "    .dataframe thead th {\n",
       "        text-align: right;\n",
       "    }\n",
       "</style>\n",
       "<table border=\"1\" class=\"dataframe\">\n",
       "  <thead>\n",
       "    <tr style=\"text-align: right;\">\n",
       "      <th></th>\n",
       "      <th>Metric</th>\n",
       "      <th>Training</th>\n",
       "      <th>Test</th>\n",
       "      <th>Gap/Generalization</th>\n",
       "    </tr>\n",
       "  </thead>\n",
       "  <tbody>\n",
       "    <tr>\n",
       "      <th>0</th>\n",
       "      <td>AUC-ROC</td>\n",
       "      <td>0.811</td>\n",
       "      <td>0.845</td>\n",
       "      <td>0.033</td>\n",
       "    </tr>\n",
       "    <tr>\n",
       "      <th>1</th>\n",
       "      <td>AUC-PR</td>\n",
       "      <td>0.870</td>\n",
       "      <td>0.884</td>\n",
       "      <td>0.014</td>\n",
       "    </tr>\n",
       "    <tr>\n",
       "      <th>2</th>\n",
       "      <td>Precision</td>\n",
       "      <td>0.792</td>\n",
       "      <td>0.856</td>\n",
       "      <td>0.063</td>\n",
       "    </tr>\n",
       "    <tr>\n",
       "      <th>3</th>\n",
       "      <td>Recall</td>\n",
       "      <td>0.979</td>\n",
       "      <td>0.988</td>\n",
       "      <td>0.009</td>\n",
       "    </tr>\n",
       "    <tr>\n",
       "      <th>4</th>\n",
       "      <td>F1-Score</td>\n",
       "      <td>0.876</td>\n",
       "      <td>0.917</td>\n",
       "      <td>0.041</td>\n",
       "    </tr>\n",
       "    <tr>\n",
       "      <th>5</th>\n",
       "      <td>Accuracy</td>\n",
       "      <td>0.809</td>\n",
       "      <td>0.878</td>\n",
       "      <td>0.069</td>\n",
       "    </tr>\n",
       "    <tr>\n",
       "      <th>6</th>\n",
       "      <td>Generalization</td>\n",
       "      <td>-</td>\n",
       "      <td>-</td>\n",
       "      <td>Best Fit</td>\n",
       "    </tr>\n",
       "    <tr>\n",
       "      <th>7</th>\n",
       "      <td>Model Status</td>\n",
       "      <td>-</td>\n",
       "      <td>Good</td>\n",
       "      <td>-</td>\n",
       "    </tr>\n",
       "  </tbody>\n",
       "</table>\n",
       "</div>"
      ],
      "text/plain": [
       "           Metric Training   Test Gap/Generalization\n",
       "0         AUC-ROC    0.811  0.845              0.033\n",
       "1          AUC-PR    0.870  0.884              0.014\n",
       "2       Precision    0.792  0.856              0.063\n",
       "3          Recall    0.979  0.988              0.009\n",
       "4        F1-Score    0.876  0.917              0.041\n",
       "5        Accuracy    0.809  0.878              0.069\n",
       "6  Generalization        -      -           Best Fit\n",
       "7    Model Status        -   Good                  -"
      ]
     },
     "execution_count": 18,
     "metadata": {},
     "output_type": "execute_result"
    }
   ],
   "source": [
    "# performance table\n",
    "print(\"=== Neural Network Performance Metrics ===\".center(52, '='))\n",
    "performance_df"
   ]
  },
  {
   "cell_type": "code",
   "execution_count": 19,
   "id": "15f497f4",
   "metadata": {},
   "outputs": [
    {
     "name": "stdout",
     "output_type": "stream",
     "text": [
      "=== Metrics Summary ===\n",
      "Training Accuracy: 0.8094\n",
      "Test Accuracy: 0.8780\n",
      "Accuracy Gap: 0.0686 (Best Fit)\n",
      "Model Performance: Good\n"
     ]
    }
   ],
   "source": [
    "print(\"=== Metrics Summary ===\")\n",
    "print(f\"Training Accuracy: {train_acc:.4f}\")\n",
    "print(f\"Test Accuracy: {test_acc:.4f}\")\n",
    "print(f\"Accuracy Gap: {abs(train_acc - test_acc):.4f} ({generalization})\")\n",
    "print(f\"Model Performance: {model_status}\")"
   ]
  },
  {
   "cell_type": "markdown",
   "id": "576bb193",
   "metadata": {},
   "source": [
    "## ROC-Curve"
   ]
  },
  {
   "cell_type": "code",
   "execution_count": 20,
   "id": "9bafd20f",
   "metadata": {},
   "outputs": [],
   "source": [
    "# roc curve for training and testing set\n",
    "train_fpr, train_tpr, _ = roc_curve(y_train, train_proba)\n",
    "test_fpr, test_tpr, _ = roc_curve(y_test, test_proba)"
   ]
  },
  {
   "cell_type": "code",
   "execution_count": 21,
   "id": "d3bf0022",
   "metadata": {},
   "outputs": [],
   "source": [
    "# calculate AUC for training and testing set\n",
    "train_auc = auc(train_fpr, train_tpr)\n",
    "test_auc = auc(test_fpr, test_tpr)"
   ]
  },
  {
   "cell_type": "markdown",
   "id": "d20ea08d",
   "metadata": {},
   "source": [
    "**NOTE:** We can use training and test AUC-ROC (`roc_auc_score`) values to plot ROC curves"
   ]
  },
  {
   "cell_type": "code",
   "execution_count": 22,
   "id": "915f822d",
   "metadata": {},
   "outputs": [
    {
     "data": {
      "image/png": "[encoded data removed]",
      "text/plain": [
       "<Figure size 800x400 with 1 Axes>"
      ]
     },
     "metadata": {},
     "output_type": "display_data"
    }
   ],
   "source": [
    "# figure size\n",
    "plt.figure(figsize=(8, 4))\n",
    "\n",
    "# ploting the curve\n",
    "plt.plot(train_fpr, train_tpr, label=f'Train (AUC = {train_auc:.3f})')\n",
    "plt.plot(test_fpr, test_tpr, label=f'Test (AUC = {test_auc:.3f})')\n",
    "plt.plot([0, 1], [0, 1], 'k--')\n",
    "\n",
    "# set labels\n",
    "plt.xlabel('False Positive Rate')\n",
    "plt.ylabel('True Positive Rate')\n",
    "plt.title('Nueral Network (Fixed Architecture) ROC Curves - Train vs Test',  y=1.02, fontsize=8)\n",
    "plt.legend()\n",
    "plt.show()"
   ]
  },
  {
   "cell_type": "markdown",
   "id": "1894bf50",
   "metadata": {},
   "source": [
    "## Confusion Matrix"
   ]
  },
  {
   "cell_type": "code",
   "execution_count": 23,
   "id": "4e15eefe",
   "metadata": {},
   "outputs": [],
   "source": [
    "# confusion matrix for training and test set\n",
    "train_cnf = confusion_matrix(y_train, train_pred)\n",
    "test_cnf = confusion_matrix(y_test, test_pred)"
   ]
  },
  {
   "cell_type": "code",
   "execution_count": 24,
   "id": "0348843f",
   "metadata": {},
   "outputs": [
    {
     "data": {
      "image/png": "[encoded data removed]",
      "text/plain": [
       "<Figure size 1000x400 with 4 Axes>"
      ]
     },
     "metadata": {},
     "output_type": "display_data"
    }
   ],
   "source": [
    "\"\"\" visualize confusion matrices \"\"\"\n",
    "# number of subplots\n",
    "fig, axes = plt.subplots(1, 2, figsize=(10, 4))\n",
    "axes = axes.flatten()\n",
    "\n",
    "# confusion matrix for training set\n",
    "ax = axes[0]\n",
    "sns.heatmap(train_cnf, annot=True, fmt='d', cmap='viridis', ax=ax)\n",
    "\n",
    "# set labels\n",
    "ax.set_title(\"Training Set Confusion Matrix\", fontsize=10, y=1.05)\n",
    "ax.set_xlabel(\"Predicted\")\n",
    "ax.set_ylabel(\"Actual\")\n",
    "\n",
    "\n",
    "# confusion matrix for test set\n",
    "ax = axes[1]\n",
    "sns.heatmap(test_cnf, annot=True, fmt='d', cmap='viridis', ax=ax)\n",
    "\n",
    "# set labels\n",
    "ax.set_title(\"Test Set Confusion Matrix\", fontsize=10, y=1.05)\n",
    "ax.set_xlabel(\"Predicted\")\n",
    "ax.set_ylabel(\"Actual\")\n",
    "\n",
    "# ========== Layout ==========\n",
    "plt.suptitle(f\"Confusion Matrices for Neural Network (Fixed Architecture) Evaluation (Train vs Test)\", y=1.02, fontsize=16, fontweight='bold')\n",
    "plt.tight_layout()\n",
    "plt.show()"
   ]
  },
  {
   "cell_type": "markdown",
   "id": "95cb11b6",
   "metadata": {},
   "source": [
    "## Cross-Validation Scores"
   ]
  },
  {
   "cell_type": "code",
   "execution_count": 25,
   "id": "8743bf23",
   "metadata": {},
   "outputs": [],
   "source": [
    "# cross validation evaluation\n",
    "cv_scores = []\n",
    "\n",
    "# calucate cross-validation scores\n",
    "for train_idx, test_idx in cv.split(x, y):\n",
    "    x_train_fold, x_test_fold = x.iloc[train_idx], x.iloc[test_idx]\n",
    "    y_train_fold, y_test_fold = y.iloc[train_idx], y.iloc[test_idx]\n",
    "\n",
    "    pipeline = Pipeline([\n",
    "        ('scaler', StandardScaler()),\n",
    "        ('classifier', KerasClassifier(\n",
    "            model=lambda: nn_model(x.shape[1]),\n",
    "            epochs=100,\n",
    "            batch_size=32,\n",
    "            validation_split=0.2,\n",
    "            callbacks=callback,\n",
    "            verbose=0,\n",
    "            random_state=42\n",
    "        ))\n",
    "    ])\n",
    "\n",
    "    pipeline.fit(x_train_fold, y_train_fold)\n",
    "    y_proba = pipeline.predict_proba(x_test_fold)[:, 1]\n",
    "    fold_score = roc_auc_score(y_test_fold, y_proba)\n",
    "    cv_scores.append(fold_score)\n"
   ]
  },
  {
   "cell_type": "code",
   "execution_count": 26,
   "id": "6e8eedf0",
   "metadata": {},
   "outputs": [],
   "source": [
    "# CV score mean and std\n",
    "cv_scores = np.array(cv_scores)\n",
    "cv_mean = cv_scores.mean()\n",
    "cv_std = cv_scores.std()"
   ]
  },
  {
   "cell_type": "code",
   "execution_count": 27,
   "id": "57cc9535",
   "metadata": {},
   "outputs": [],
   "source": [
    "# create dataframe\n",
    "cv_df = pd.DataFrame({\n",
    "    \"Model\": \"Neural Network\",\n",
    "    \"CV Mean\": [cv_mean],\n",
    "    \"CV Std\": [cv_std]\n",
    "}).round(3)"
   ]
  },
  {
   "cell_type": "code",
   "execution_count": 28,
   "id": "8eccaddb",
   "metadata": {},
   "outputs": [
    {
     "data": {
      "text/html": [
       "<div>\n",
       "<style scoped>\n",
       "    .dataframe tbody tr th:only-of-type {\n",
       "        vertical-align: middle;\n",
       "    }\n",
       "\n",
       "    .dataframe tbody tr th {\n",
       "        vertical-align: top;\n",
       "    }\n",
       "\n",
       "    .dataframe thead th {\n",
       "        text-align: right;\n",
       "    }\n",
       "</style>\n",
       "<table border=\"1\" class=\"dataframe\">\n",
       "  <thead>\n",
       "    <tr style=\"text-align: right;\">\n",
       "      <th></th>\n",
       "      <th>Model</th>\n",
       "      <th>CV Mean</th>\n",
       "      <th>CV Std</th>\n",
       "    </tr>\n",
       "  </thead>\n",
       "  <tbody>\n",
       "    <tr>\n",
       "      <th>0</th>\n",
       "      <td>Neural Network</td>\n",
       "      <td>0.698</td>\n",
       "      <td>0.091</td>\n",
       "    </tr>\n",
       "  </tbody>\n",
       "</table>\n",
       "</div>"
      ],
      "text/plain": [
       "            Model  CV Mean  CV Std\n",
       "0  Neural Network    0.698   0.091"
      ]
     },
     "execution_count": 28,
     "metadata": {},
     "output_type": "execute_result"
    }
   ],
   "source": [
    "cv_df"
   ]
  },
  {
   "cell_type": "markdown",
   "id": "c85e40fb",
   "metadata": {},
   "source": [
    "## Overfitting Analysis"
   ]
  },
  {
   "cell_type": "code",
   "execution_count": 29,
   "id": "52dba3df",
   "metadata": {},
   "outputs": [],
   "source": [
    "# overfitting gap\n",
    "overfitting_gap = abs(train_auc_roc - test_auc_roc)\n",
    "\n",
    "# overfitting status\n",
    "overfit_status = \"High\" if overfitting_gap > 0.6 else \"Medium\" if overfitting_gap > 0.4 else \"Low\"\n",
    "\n",
    "# overfitting dictionary\n",
    "overfit_model = pd.DataFrame({\n",
    "    'Model': ['Neural Network'],\n",
    "    'AUC-ROC Gap': [abs(train_auc_roc - test_auc_roc)],\n",
    "    'AUC-PR Gap': [abs(train_auc_pr - test_auc_pr)],\n",
    "    'Precision Gap': [abs(train_precision - test_precision)],\n",
    "    'Recall Gap': [abs(train_recall - test_recall)],\n",
    "    'F1-Score Gap': [abs(train_f1 - test_f1)],\n",
    "    'Accuracy Gap': [abs(train_acc - test_acc)],\n",
    "    'Overfitting Status': [overfit_status]\n",
    "}).round(3)\n"
   ]
  },
  {
   "cell_type": "code",
   "execution_count": 30,
   "id": "54fba665",
   "metadata": {},
   "outputs": [
    {
     "name": "stdout",
     "output_type": "stream",
     "text": [
      "                                                === Overfitting Analysis Table ===                                                \n"
     ]
    },
    {
     "data": {
      "text/html": [
       "<div>\n",
       "<style scoped>\n",
       "    .dataframe tbody tr th:only-of-type {\n",
       "        vertical-align: middle;\n",
       "    }\n",
       "\n",
       "    .dataframe tbody tr th {\n",
       "        vertical-align: top;\n",
       "    }\n",
       "\n",
       "    .dataframe thead th {\n",
       "        text-align: right;\n",
       "    }\n",
       "</style>\n",
       "<table border=\"1\" class=\"dataframe\">\n",
       "  <thead>\n",
       "    <tr style=\"text-align: right;\">\n",
       "      <th></th>\n",
       "      <th>Model</th>\n",
       "      <th>AUC-ROC Gap</th>\n",
       "      <th>AUC-PR Gap</th>\n",
       "      <th>Precision Gap</th>\n",
       "      <th>Recall Gap</th>\n",
       "      <th>F1-Score Gap</th>\n",
       "      <th>Accuracy Gap</th>\n",
       "      <th>Overfitting Status</th>\n",
       "    </tr>\n",
       "  </thead>\n",
       "  <tbody>\n",
       "    <tr>\n",
       "      <th>0</th>\n",
       "      <td>Neural Network</td>\n",
       "      <td>0.033</td>\n",
       "      <td>0.014</td>\n",
       "      <td>0.063</td>\n",
       "      <td>0.009</td>\n",
       "      <td>0.041</td>\n",
       "      <td>0.069</td>\n",
       "      <td>Low</td>\n",
       "    </tr>\n",
       "  </tbody>\n",
       "</table>\n",
       "</div>"
      ],
      "text/plain": [
       "            Model  AUC-ROC Gap  AUC-PR Gap  Precision Gap  Recall Gap  \\\n",
       "0  Neural Network        0.033       0.014          0.063       0.009   \n",
       "\n",
       "   F1-Score Gap  Accuracy Gap Overfitting Status  \n",
       "0         0.041         0.069                Low  "
      ]
     },
     "execution_count": 30,
     "metadata": {},
     "output_type": "execute_result"
    }
   ],
   "source": [
    "print(\"=== Overfitting Analysis Table ===\".center(130))\n",
    "overfit_model"
   ]
  },
  {
   "cell_type": "markdown",
   "id": "ec9ad667",
   "metadata": {},
   "source": [
    "## Model Scoring"
   ]
  },
  {
   "cell_type": "code",
   "execution_count": 31,
   "id": "3e5ff1b9",
   "metadata": {},
   "outputs": [],
   "source": [
    "\"\"\" Composite score (higher is better) \"\"\"\n",
    "\n",
    "# Weighted combination: 30% CV mean, 15% low CV std, 15% test acc, 15% F1, 15% AUC, 10% low overfitting\n",
    "composite_score = (0.3 * cv_mean) + (0.15 * (1-cv_std)) + (0.15 * test_acc) + \\\n",
    "                      (0.15 * test_f1) + (0.15 * test_auc) + (0.1 * (1-overfitting_gap))"
   ]
  },
  {
   "cell_type": "code",
   "execution_count": 32,
   "id": "6f388275",
   "metadata": {},
   "outputs": [],
   "source": [
    "model_score = pd.DataFrame({\n",
    "    'Model': ['Neural Network'],\n",
    "    'CV Mean': [cv_mean],\n",
    "    'CV Std': [cv_std],\n",
    "    'Test Accuracy': [test_acc],\n",
    "    'Test F1-Score': [test_f1],\n",
    "    'Test AUC': [test_auc_roc],\n",
    "    'Overfitting Gap': [overfitting_gap],\n",
    "    'Composite Score': [composite_score]\n",
    "}).round(3)"
   ]
  },
  {
   "cell_type": "code",
   "execution_count": 33,
   "id": "d01619f9",
   "metadata": {},
   "outputs": [
    {
     "name": "stdout",
     "output_type": "stream",
     "text": [
      "                                                    === Model Score Table ===                                                     \n"
     ]
    },
    {
     "data": {
      "text/html": [
       "<div>\n",
       "<style scoped>\n",
       "    .dataframe tbody tr th:only-of-type {\n",
       "        vertical-align: middle;\n",
       "    }\n",
       "\n",
       "    .dataframe tbody tr th {\n",
       "        vertical-align: top;\n",
       "    }\n",
       "\n",
       "    .dataframe thead th {\n",
       "        text-align: right;\n",
       "    }\n",
       "</style>\n",
       "<table border=\"1\" class=\"dataframe\">\n",
       "  <thead>\n",
       "    <tr style=\"text-align: right;\">\n",
       "      <th></th>\n",
       "      <th>Model</th>\n",
       "      <th>CV Mean</th>\n",
       "      <th>CV Std</th>\n",
       "      <th>Test Accuracy</th>\n",
       "      <th>Test F1-Score</th>\n",
       "      <th>Test AUC</th>\n",
       "      <th>Overfitting Gap</th>\n",
       "      <th>Composite Score</th>\n",
       "    </tr>\n",
       "  </thead>\n",
       "  <tbody>\n",
       "    <tr>\n",
       "      <th>0</th>\n",
       "      <td>Neural Network</td>\n",
       "      <td>0.698</td>\n",
       "      <td>0.091</td>\n",
       "      <td>0.878</td>\n",
       "      <td>0.917</td>\n",
       "      <td>0.845</td>\n",
       "      <td>0.033</td>\n",
       "      <td>0.838</td>\n",
       "    </tr>\n",
       "  </tbody>\n",
       "</table>\n",
       "</div>"
      ],
      "text/plain": [
       "            Model  CV Mean  CV Std  Test Accuracy  Test F1-Score  Test AUC  \\\n",
       "0  Neural Network    0.698   0.091          0.878          0.917     0.845   \n",
       "\n",
       "   Overfitting Gap  Composite Score  \n",
       "0            0.033            0.838  "
      ]
     },
     "execution_count": 33,
     "metadata": {},
     "output_type": "execute_result"
    }
   ],
   "source": [
    "print(\"=== Model Score Table ===\".center(130))\n",
    "model_score"
   ]
  },
  {
   "cell_type": "markdown",
   "id": "ebffbfe5",
   "metadata": {},
   "source": [
    "## Persist Model and Final Performance Table"
   ]
  },
  {
   "cell_type": "code",
   "execution_count": 34,
   "id": "777ad91d",
   "metadata": {},
   "outputs": [],
   "source": [
    "# overall model performance\n",
    "perf_df = pd.DataFrame({\n",
    "    'Model': ['Neural Network'],\n",
    "    'AUC-ROC': [test_auc_roc],\n",
    "    'AUC-PR': [test_auc_pr],\n",
    "    'Precision': [test_precision],\n",
    "    'Recall': [test_recall],\n",
    "    'F1-Score': [test_f1],\n",
    "    'Accuracy': [test_acc],\n",
    "    'CV AUC-ROC Mean': [cv_mean],\n",
    "    'CV AUC-ROC Std': [cv_std],\n",
    "    'AUC-ROC (Overfit) Gap': [overfitting_gap],\n",
    "    'Composite Score': [composite_score],\n",
    "    'Overfitting Status': [overfit_status],\n",
    "    'Model Status': [model_status],\n",
    "}).round(3)"
   ]
  },
  {
   "cell_type": "code",
   "execution_count": 35,
   "id": "65161c0c",
   "metadata": {},
   "outputs": [
    {
     "data": {
      "text/html": [
       "<div>\n",
       "<style scoped>\n",
       "    .dataframe tbody tr th:only-of-type {\n",
       "        vertical-align: middle;\n",
       "    }\n",
       "\n",
       "    .dataframe tbody tr th {\n",
       "        vertical-align: top;\n",
       "    }\n",
       "\n",
       "    .dataframe thead th {\n",
       "        text-align: right;\n",
       "    }\n",
       "</style>\n",
       "<table border=\"1\" class=\"dataframe\">\n",
       "  <thead>\n",
       "    <tr style=\"text-align: right;\">\n",
       "      <th></th>\n",
       "      <th>Model</th>\n",
       "      <th>AUC-ROC</th>\n",
       "      <th>AUC-PR</th>\n",
       "      <th>Precision</th>\n",
       "      <th>Recall</th>\n",
       "      <th>F1-Score</th>\n",
       "      <th>Accuracy</th>\n",
       "      <th>CV AUC-ROC Mean</th>\n",
       "      <th>CV AUC-ROC Std</th>\n",
       "      <th>AUC-ROC (Overfit) Gap</th>\n",
       "      <th>Composite Score</th>\n",
       "      <th>Overfitting Status</th>\n",
       "      <th>Model Status</th>\n",
       "    </tr>\n",
       "  </thead>\n",
       "  <tbody>\n",
       "    <tr>\n",
       "      <th>0</th>\n",
       "      <td>Neural Network</td>\n",
       "      <td>0.845</td>\n",
       "      <td>0.884</td>\n",
       "      <td>0.856</td>\n",
       "      <td>0.988</td>\n",
       "      <td>0.917</td>\n",
       "      <td>0.878</td>\n",
       "      <td>0.698</td>\n",
       "      <td>0.091</td>\n",
       "      <td>0.033</td>\n",
       "      <td>0.838</td>\n",
       "      <td>Low</td>\n",
       "      <td>Good</td>\n",
       "    </tr>\n",
       "  </tbody>\n",
       "</table>\n",
       "</div>"
      ],
      "text/plain": [
       "            Model  AUC-ROC  AUC-PR  Precision  Recall  F1-Score  Accuracy  \\\n",
       "0  Neural Network    0.845   0.884      0.856   0.988     0.917     0.878   \n",
       "\n",
       "   CV AUC-ROC Mean  CV AUC-ROC Std  AUC-ROC (Overfit) Gap  Composite Score  \\\n",
       "0            0.698           0.091                  0.033            0.838   \n",
       "\n",
       "  Overfitting Status Model Status  \n",
       "0                Low         Good  "
      ]
     },
     "execution_count": 35,
     "metadata": {},
     "output_type": "execute_result"
    }
   ],
   "source": [
    "perf_df"
   ]
  },
  {
   "cell_type": "code",
   "execution_count": 36,
   "id": "69af2083",
   "metadata": {},
   "outputs": [],
   "source": [
    "# save model performance\n",
    "performance_path = model_performance_dir / \"neuralNetworkPerformance.csv\"\n",
    "\n",
    "# convert performance dataframe to csv\n",
    "performance_df.to_csv(performance_path, index=False)"
   ]
  },
  {
   "cell_type": "code",
   "execution_count": 37,
   "id": "7e5fcc1f",
   "metadata": {},
   "outputs": [],
   "source": [
    "# concat with the existing dataframe\n",
    "cv_df = pd.concat([cv_df, cross_val_df], ignore_index=True)\n",
    "\n",
    "# update cross validation score by adding random forest regression\n",
    "cv_path = model_performance_dir / \"a_CrossValidationScore.csv\"\n",
    "\n",
    "cv_df.to_csv(cv_path, index=False)"
   ]
  },
  {
   "cell_type": "code",
   "execution_count": 38,
   "id": "c6650f6b",
   "metadata": {},
   "outputs": [],
   "source": [
    "# concat with the existing dataframe\n",
    "overfit_model = pd.concat([overfit_model, overfit_df], ignore_index=True)\n",
    "\n",
    "# overfitting analysis table\n",
    "overfit_path = model_performance_dir / \"a_OverfittingAnalysis.csv\"\n",
    "\n",
    "overfit_model.to_csv(overfit_path, index=False)"
   ]
  },
  {
   "cell_type": "code",
   "execution_count": 39,
   "id": "76a296d6",
   "metadata": {},
   "outputs": [],
   "source": [
    "# concat with the existing dataframe\n",
    "model_score = pd.concat([model_score, model_score_df], ignore_index=True)\n",
    "\n",
    "# add to model scores table\n",
    "model_score_path = model_performance_dir / \"a_ModelsScores.csv\"\n",
    "\n",
    "model_score.to_csv(model_score_path, index=False)"
   ]
  },
  {
   "cell_type": "code",
   "execution_count": 40,
   "id": "584fea59",
   "metadata": {},
   "outputs": [],
   "source": [
    "# concat with the existing dataframe\n",
    "perf_df = pd.concat([perf_df, model_perf_df], ignore_index=True)\n",
    "\n",
    "# model comparison table\n",
    "model_perf_path = model_performance_dir / \"a_ModelsPerformance.csv\"\n",
    "\n",
    "perf_df.to_csv(model_perf_path, index=False)\n"
   ]
  },
  {
   "cell_type": "code",
   "execution_count": 41,
   "id": "47af855c",
   "metadata": {},
   "outputs": [],
   "source": [
    "#  saved model and test probabilities\n",
    "joblib.dump(best_model, model_dir / \"neuralNetwork.pkl\")\n",
    "np.save(model_dir / \"neuralNetwork_testProba.npy\", test_proba)"
   ]
  }
 ],
 "metadata": {
  "kernelspec": {
   "display_name": "Python 3",
   "language": "python",
   "name": "python3"
  },
  "language_info": {
   "codemirror_mode": {
    "name": "ipython",
    "version": 3
   },
   "file_extension": ".py",
   "mimetype": "text/x-python",
   "name": "python",
   "nbconvert_exporter": "python",
   "pygments_lexer": "ipython3",
   "version": "3.10.0"
  }
 },
 "nbformat": 4,
 "nbformat_minor": 5
}
