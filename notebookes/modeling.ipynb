{
 "cells": [
  {
   "cell_type": "markdown",
   "id": "8c4cac30",
   "metadata": {},
   "source": [
    "# Intelligent Loan Approval Prediction System ML Models\n",
    "The system is designed to predict the likelihood of loan approval by analyzing historical data containing applicants’ financial and personal attributes. By employing advanced ML algorithms, the model can capture complex patterns and relationships between features, enabling more informed and objective predictions.\n",
    "\n",
    "In this project, multiple machine learning models are explored and compared to identify the most effective approach for predicting loan approvals. The selected models include:\n",
    "\n",
    "- Logistic Regression\n",
    "- Random Forest\n",
    "- XGBoost\n",
    "- LightGBM\n",
    "- Support Vector Machine (SVM)\n",
    "- Neural Network\n",
    "\n",
    "By training and evaluating these models on historical loan datasets, the system aims to provide a reliable, data-driven mechanism for loan approval prediction. This approach not only helps financial institutions minimize default risk but also ensures a fair and consistent evaluation process for applicants."
   ]
  },
  {
   "cell_type": "markdown",
   "id": "f288406f",
   "metadata": {},
   "source": [
    "# Import Libraries"
   ]
  },
  {
   "cell_type": "code",
   "execution_count": 1,
   "id": "109ca265",
   "metadata": {},
   "outputs": [
    {
     "name": "stderr",
     "output_type": "stream",
     "text": [
      "c:\\Users\\Tshihab07\\AppData\\Local\\Programs\\Python\\Python310\\lib\\site-packages\\tqdm\\auto.py:21: TqdmWarning: IProgress not found. Please update jupyter and ipywidgets. See https://ipywidgets.readthedocs.io/en/stable/user_install.html\n",
      "  from .autonotebook import tqdm as notebook_tqdm\n"
     ]
    }
   ],
   "source": [
    "# records and calculations\n",
    "import pandas as pd\n",
    "import numpy as np\n",
    "\n",
    "# visualizations\n",
    "import matplotlib.pyplot as plt\n",
    "import seaborn as sns\n",
    "\n",
    "# core ML\n",
    "from sklearn.model_selection import train_test_split, StratifiedKFold, cross_val_score, GridSearchCV\n",
    "from sklearn.linear_model import LogisticRegression\n",
    "from sklearn.ensemble import RandomForestClassifier\n",
    "from sklearn.svm import SVC\n",
    "from sklearn.metrics import roc_auc_score, average_precision_score, precision_recall_curve, confusion_matrix\n",
    "from sklearn.metrics import classification_report, roc_curve, auc, accuracy_score, f1_score, precision_score, recall_score\n",
    "from sklearn.preprocessing import StandardScaler\n",
    "from sklearn.calibration import calibration_curve\n",
    "\n",
    "# gradient boosting model\n",
    "import lightgbm as lgb\n",
    "import xgboost as xgb\n",
    "\n",
    "# neural network\n",
    "import tensorflow as tf\n",
    "from tensorflow.keras.models import Sequential\n",
    "from tensorflow.keras.layers import Dense, Dropout\n",
    "from tensorflow.keras.optimizers import Adam\n",
    "from scikeras.wrappers import KerasClassifier\n",
    "\n",
    "# optimization\n",
    "import optuna\n",
    "optuna.logging.set_verbosity(optuna.logging.WARNING)        # reduce Optuna's logging output to only warnings and errors (hides trial info logs)\n",
    "\n",
    "from skopt import BayesSearchCV\n",
    "from skopt.space import Real, Integer, Categorical\n",
    "\n",
    "# Interpretability\n",
    "import shap\n",
    "\n",
    "# Fairness\n",
    "from fairlearn.metrics import demographic_parity_difference, equalized_odds_difference\n",
    "\n",
    "# Persistence\n",
    "import joblib\n",
    "import pickle\n",
    "\n",
    "#  Set seeds for reproducibility\n",
    "np.random.seed(42)\n",
    "tf.random.set_seed(42)\n",
    "\n",
    "# avoid minor warnings\n",
    "import warnings\n",
    "warnings.filterwarnings('ignore')\n",
    "\n",
    "# read file path\n",
    "from pathlib import Path"
   ]
  },
  {
   "cell_type": "markdown",
   "id": "83e0cb08",
   "metadata": {},
   "source": [
    "# Load and Prepare Dataset for Modeling "
   ]
  },
  {
   "cell_type": "markdown",
   "id": "68790b9f",
   "metadata": {},
   "source": [
    "## Load Dataset"
   ]
  },
  {
   "cell_type": "code",
   "execution_count": 2,
   "id": "f56f9a17",
   "metadata": {},
   "outputs": [],
   "source": [
    "# reading file path\n",
    "file = Path(r\"../data/CleanedLoanData.csv\")\n",
    "\n",
    "# reading csv file\n",
    "df = pd.read_csv(file)"
   ]
  },
  {
   "cell_type": "code",
   "execution_count": 3,
   "id": "6e3eecd1",
   "metadata": {},
   "outputs": [
    {
     "data": {
      "text/html": [
       "<div>\n",
       "<style scoped>\n",
       "    .dataframe tbody tr th:only-of-type {\n",
       "        vertical-align: middle;\n",
       "    }\n",
       "\n",
       "    .dataframe tbody tr th {\n",
       "        vertical-align: top;\n",
       "    }\n",
       "\n",
       "    .dataframe thead th {\n",
       "        text-align: right;\n",
       "    }\n",
       "</style>\n",
       "<table border=\"1\" class=\"dataframe\">\n",
       "  <thead>\n",
       "    <tr style=\"text-align: right;\">\n",
       "      <th></th>\n",
       "      <th>Dependents</th>\n",
       "      <th>LoanAmount</th>\n",
       "      <th>CreditHistory</th>\n",
       "      <th>LoanStatus</th>\n",
       "      <th>TotalIncome</th>\n",
       "      <th>IncomeLoanRatio</th>\n",
       "      <th>LoanTermYears</th>\n",
       "      <th>Has_CoApplicantIncome</th>\n",
       "      <th>Gender_Male</th>\n",
       "      <th>Married_Yes</th>\n",
       "      <th>Education_NotGraduate</th>\n",
       "      <th>PropertyArea_Semiurban</th>\n",
       "      <th>PropertyArea_Urban</th>\n",
       "      <th>SelfEmployed_Yes</th>\n",
       "    </tr>\n",
       "  </thead>\n",
       "  <tbody>\n",
       "    <tr>\n",
       "      <th>0</th>\n",
       "      <td>0</td>\n",
       "      <td>146.369492</td>\n",
       "      <td>1</td>\n",
       "      <td>1</td>\n",
       "      <td>5849.0</td>\n",
       "      <td>25.024704</td>\n",
       "      <td>30.0</td>\n",
       "      <td>0</td>\n",
       "      <td>True</td>\n",
       "      <td>False</td>\n",
       "      <td>False</td>\n",
       "      <td>False</td>\n",
       "      <td>True</td>\n",
       "      <td>False</td>\n",
       "    </tr>\n",
       "    <tr>\n",
       "      <th>1</th>\n",
       "      <td>1</td>\n",
       "      <td>128.000000</td>\n",
       "      <td>1</td>\n",
       "      <td>0</td>\n",
       "      <td>6091.0</td>\n",
       "      <td>21.014612</td>\n",
       "      <td>30.0</td>\n",
       "      <td>1</td>\n",
       "      <td>True</td>\n",
       "      <td>True</td>\n",
       "      <td>False</td>\n",
       "      <td>False</td>\n",
       "      <td>False</td>\n",
       "      <td>False</td>\n",
       "    </tr>\n",
       "    <tr>\n",
       "      <th>2</th>\n",
       "      <td>0</td>\n",
       "      <td>66.000000</td>\n",
       "      <td>1</td>\n",
       "      <td>1</td>\n",
       "      <td>3000.0</td>\n",
       "      <td>22.000000</td>\n",
       "      <td>30.0</td>\n",
       "      <td>0</td>\n",
       "      <td>True</td>\n",
       "      <td>True</td>\n",
       "      <td>False</td>\n",
       "      <td>False</td>\n",
       "      <td>True</td>\n",
       "      <td>True</td>\n",
       "    </tr>\n",
       "    <tr>\n",
       "      <th>3</th>\n",
       "      <td>0</td>\n",
       "      <td>120.000000</td>\n",
       "      <td>1</td>\n",
       "      <td>1</td>\n",
       "      <td>4941.0</td>\n",
       "      <td>24.286582</td>\n",
       "      <td>30.0</td>\n",
       "      <td>1</td>\n",
       "      <td>True</td>\n",
       "      <td>True</td>\n",
       "      <td>True</td>\n",
       "      <td>False</td>\n",
       "      <td>True</td>\n",
       "      <td>False</td>\n",
       "    </tr>\n",
       "    <tr>\n",
       "      <th>4</th>\n",
       "      <td>0</td>\n",
       "      <td>141.000000</td>\n",
       "      <td>1</td>\n",
       "      <td>1</td>\n",
       "      <td>6000.0</td>\n",
       "      <td>23.500000</td>\n",
       "      <td>30.0</td>\n",
       "      <td>0</td>\n",
       "      <td>True</td>\n",
       "      <td>False</td>\n",
       "      <td>False</td>\n",
       "      <td>False</td>\n",
       "      <td>True</td>\n",
       "      <td>False</td>\n",
       "    </tr>\n",
       "  </tbody>\n",
       "</table>\n",
       "</div>"
      ],
      "text/plain": [
       "   Dependents  LoanAmount  CreditHistory  LoanStatus  TotalIncome  \\\n",
       "0           0  146.369492              1           1       5849.0   \n",
       "1           1  128.000000              1           0       6091.0   \n",
       "2           0   66.000000              1           1       3000.0   \n",
       "3           0  120.000000              1           1       4941.0   \n",
       "4           0  141.000000              1           1       6000.0   \n",
       "\n",
       "   IncomeLoanRatio  LoanTermYears  Has_CoApplicantIncome  Gender_Male  \\\n",
       "0        25.024704           30.0                      0         True   \n",
       "1        21.014612           30.0                      1         True   \n",
       "2        22.000000           30.0                      0         True   \n",
       "3        24.286582           30.0                      1         True   \n",
       "4        23.500000           30.0                      0         True   \n",
       "\n",
       "   Married_Yes  Education_NotGraduate  PropertyArea_Semiurban  \\\n",
       "0        False                  False                   False   \n",
       "1         True                  False                   False   \n",
       "2         True                  False                   False   \n",
       "3         True                   True                   False   \n",
       "4        False                  False                   False   \n",
       "\n",
       "   PropertyArea_Urban  SelfEmployed_Yes  \n",
       "0                True             False  \n",
       "1               False             False  \n",
       "2                True              True  \n",
       "3                True             False  \n",
       "4                True             False  "
      ]
     },
     "execution_count": 3,
     "metadata": {},
     "output_type": "execute_result"
    }
   ],
   "source": [
    "df.head()"
   ]
  },
  {
   "cell_type": "markdown",
   "id": "d2334415",
   "metadata": {},
   "source": [
    "## Feature-Target Separation"
   ]
  },
  {
   "cell_type": "code",
   "execution_count": 4,
   "id": "43a068a6",
   "metadata": {},
   "outputs": [],
   "source": [
    "# input features\n",
    "x = df.drop(columns=['LoanStatus'],  axis=1)\n",
    "\n",
    "# target variable\n",
    "y = df['LoanStatus']"
   ]
  },
  {
   "cell_type": "markdown",
   "id": "f48e7e05",
   "metadata": {},
   "source": [
    "## Train-Test Split and Cross-Validation Setup"
   ]
  },
  {
   "cell_type": "code",
   "execution_count": 5,
   "id": "cf061776",
   "metadata": {},
   "outputs": [],
   "source": [
    "x_train, x_test, y_train, y_test = train_test_split(x, y, test_size=0.2, stratify=y, random_state=42)\n",
    "cv = StratifiedKFold(n_splits=5, shuffle=True, random_state=42)\n",
    "scoring_metric = 'roc_auc'"
   ]
  },
  {
   "cell_type": "code",
   "execution_count": 6,
   "id": "25095885",
   "metadata": {},
   "outputs": [],
   "source": [
    "# Initialize storages\n",
    "all_results = {}\n",
    "models = {}\n",
    "probability = {}\n",
    "predictions = {}\n",
    "performance = []"
   ]
  },
  {
   "cell_type": "markdown",
   "id": "426100bb",
   "metadata": {},
   "source": [
    "# Model Development"
   ]
  },
  {
   "cell_type": "markdown",
   "id": "9c83f0c6",
   "metadata": {},
   "source": [
    "## Logistic Regression"
   ]
  },
  {
   "cell_type": "markdown",
   "id": "cb1bcab7",
   "metadata": {},
   "source": [
    "### Model Training with Hyperparameter Optimization"
   ]
  },
  {
   "cell_type": "code",
   "execution_count": 7,
   "id": "520498cd",
   "metadata": {},
   "outputs": [],
   "source": [
    "# hyperparameter grid\n",
    "lr_param_grid = {\n",
    "    'C' : [0.1, 1, 10, 100],\n",
    "    'penalty': ['l2', 'l1'],\n",
    "    'solver': ['liblinear'],\n",
    "    'class_weight': ['balanced']\n",
    "}"
   ]
  },
  {
   "cell_type": "code",
   "execution_count": 8,
   "id": "c5585755",
   "metadata": {},
   "outputs": [],
   "source": [
    "# Initialize base model\n",
    "lr = LogisticRegression(random_state=42, max_iter=1000)\n",
    "\n",
    "# GridSearch Optimization\n",
    "lr_grid = GridSearchCV(\n",
    "    lr,\n",
    "    lr_param_grid,\n",
    "    cv=cv,\n",
    "    scoring=scoring_metric,\n",
    "    n_jobs=-1\n",
    ")"
   ]
  },
  {
   "cell_type": "code",
   "execution_count": 9,
   "id": "67fb1085",
   "metadata": {},
   "outputs": [],
   "source": [
    "# train model and identify best estimator\n",
    "lr_grid.fit(x_train, y_train)\n",
    "\n",
    "models['Logistic Regression'] = lr_grid.best_estimator_"
   ]
  },
  {
   "cell_type": "markdown",
   "id": "1e0fa6fb",
   "metadata": {},
   "source": [
    "### Apply Model to Make Prediction and Get Probabilities"
   ]
  },
  {
   "cell_type": "code",
   "execution_count": 10,
   "id": "45041a7e",
   "metadata": {},
   "outputs": [],
   "source": [
    "# make prediction on training and test set\n",
    "train_pred = models['Logistic Regression'].predict(x_train)\n",
    "test_pred = models[\"Logistic Regression\"].predict(x_test)"
   ]
  },
  {
   "cell_type": "code",
   "execution_count": 11,
   "id": "140da247",
   "metadata": {},
   "outputs": [],
   "source": [
    "# get predicted probabilities\n",
    "train_proba = models['Logistic Regression'].predict_proba(x_train)[:, 1]\n",
    "test_proba = models['Logistic Regression'].predict_proba(x_test)[:, 1]"
   ]
  },
  {
   "cell_type": "code",
   "execution_count": 12,
   "id": "ee5a5036",
   "metadata": {},
   "outputs": [],
   "source": [
    "# store results\n",
    "predictions[\"Logistic Regression\"] = test_pred\n",
    "probability[\"Logistic Regression\"] = test_proba"
   ]
  },
  {
   "cell_type": "markdown",
   "id": "6f043090",
   "metadata": {},
   "source": [
    "### Evaluation of The Model Performance"
   ]
  },
  {
   "cell_type": "code",
   "execution_count": 13,
   "id": "692028bd",
   "metadata": {},
   "outputs": [],
   "source": [
    "# Training Metrics\n",
    "train_auc_roc = roc_auc_score(y_train, train_proba)             # ROC-AUC score\n",
    "train_auc_pr = average_precision_score(y_train, train_proba)    # average precision\n",
    "train_acc = accuracy_score(y_train, train_pred)                 # accuracy score\n",
    "train_precision = precision_score(y_train, train_pred)          # precision score\n",
    "train_recall = recall_score(y_train, train_pred)                # recall score\n",
    "train_f1 = f1_score(y_train, train_pred)                        # f1 score\n",
    "train_accuracy = accuracy_score(y_train, train_pred)            # accuracy score"
   ]
  },
  {
   "cell_type": "code",
   "execution_count": 14,
   "id": "f5a8c322",
   "metadata": {},
   "outputs": [],
   "source": [
    "# Test Metrics\n",
    "test_auc_roc = roc_auc_score(y_test, test_proba)             # ROC-AUC score\n",
    "test_auc_pr = average_precision_score(y_test, test_proba)    # average precision\n",
    "test_acc = accuracy_score(y_test, test_pred)                 # accuracy score\n",
    "test_precision = precision_score(y_test, test_pred)          # precision score\n",
    "test_recall = recall_score(y_test, test_pred)                # recall score\n",
    "test_f1 = f1_score(y_test, test_pred)                        # f1 score\n",
    "test_accuracy = accuracy_score(y_test, test_pred)            # accuracy score"
   ]
  },
  {
   "cell_type": "code",
   "execution_count": 15,
   "id": "8507702b",
   "metadata": {},
   "outputs": [
    {
     "name": "stdout",
     "output_type": "stream",
     "text": [
      "=== Optimized Logistic Regression Performance ===\n",
      "Metric         Training    Test        \n",
      "---------------------------------------\n",
      "AUC-ROC        0.7768      0.8785      \n",
      "AUC-PR         0.8582      0.9230      \n",
      "Precision      0.8102      0.8780      \n",
      "Recall         0.8537      0.8571      \n",
      "F1-Score       0.8314      0.8675      \n",
      "Accuracy       0.7623      0.8211      \n"
     ]
    }
   ],
   "source": [
    "# performance table\n",
    "print(\"=== Optimized Logistic Regression Performance ===\")\n",
    "\n",
    "metrics = [\n",
    "    (\"AUC-ROC\", train_auc_roc, test_auc_roc),\n",
    "    ('AUC-PR', train_auc_pr, test_auc_pr),\n",
    "    (\"Precision\", train_precision, test_precision),\n",
    "    (\"Recall\", train_recall, test_recall),\n",
    "    (\"F1-Score\", train_f1, test_f1),\n",
    "    (\"Accuracy\", train_acc, test_acc),\n",
    "]\n",
    "\n",
    "# Print header\n",
    "print(f\"{'Metric':<15}{'Training':<12}{'Test':<12}\")\n",
    "print(\"-\" * 39)\n",
    "\n",
    "# Print each row using a loop\n",
    "for name, train_val, test_val in metrics:\n",
    "    print(f\"{name:<15}{train_val:<12.4f}{test_val:<12.4f}\")"
   ]
  },
  {
   "cell_type": "code",
   "execution_count": 16,
   "id": "1c14e09f",
   "metadata": {},
   "outputs": [],
   "source": [
    "# store test set performance\n",
    "performance.append({\n",
    "        'Model': 'Logistic Regression',\n",
    "        'AUC-ROC': test_auc_roc,\n",
    "        'AUC-PR': test_auc_pr,\n",
    "        'Precision': test_precision,\n",
    "        'Recall': test_recall,\n",
    "        'F1-Score': test_f1,\n",
    "        'Accuracy': test_accuracy\n",
    "    })"
   ]
  },
  {
   "cell_type": "markdown",
   "id": "15f9df14",
   "metadata": {},
   "source": [
    "### ROC Curves"
   ]
  },
  {
   "cell_type": "code",
   "execution_count": 17,
   "id": "30d636eb",
   "metadata": {},
   "outputs": [],
   "source": [
    "# roc curve for training and testing set\n",
    "train_fpr, train_tpr, _ = roc_curve(y_train, train_proba)\n",
    "test_fpr, test_tpr, _ = roc_curve(y_test, test_proba)"
   ]
  },
  {
   "cell_type": "code",
   "execution_count": 18,
   "id": "e7795b69",
   "metadata": {},
   "outputs": [],
   "source": [
    "# calculate AUC for training and testing set\n",
    "train_auc = auc(train_fpr, train_tpr)\n",
    "test_auc = auc(test_fpr, test_tpr)"
   ]
  },
  {
   "cell_type": "code",
   "execution_count": 19,
   "id": "2a7f845c",
   "metadata": {},
   "outputs": [
    {
     "data": {
      "text/plain": [
       "<Figure size 800x400 with 0 Axes>"
      ]
     },
     "execution_count": 19,
     "metadata": {},
     "output_type": "execute_result"
    },
    {
     "data": {
      "text/plain": [
       "<Figure size 800x400 with 0 Axes>"
      ]
     },
     "metadata": {},
     "output_type": "display_data"
    }
   ],
   "source": [
    "# figure size\n",
    "plt.figure(figsize=(8, 4))"
   ]
  },
  {
   "cell_type": "code",
   "execution_count": 20,
   "id": "6a2e1985",
   "metadata": {},
   "outputs": [
    {
     "data": {
      "image/png": "[encoded data removed]",
      "text/plain": [
       "<Figure size 640x480 with 1 Axes>"
      ]
     },
     "metadata": {},
     "output_type": "display_data"
    }
   ],
   "source": [
    "# ploting the curve\n",
    "plt.plot(train_fpr, train_tpr, label=f'Train (AUC = {train_auc:.3f})')\n",
    "plt.plot(test_fpr, test_tpr, label=f'Test (AUC = {test_auc:.3f})')\n",
    "plt.plot([0, 1], [0, 1], 'k--')\n",
    "\n",
    "# set labels\n",
    "plt.xlabel('False Positive Rate')\n",
    "plt.ylabel('True Positive Rate')\n",
    "plt.title('Logistic Regression (GridSearchCV) ROC Curves - Train vs Test',  y=1.02, fontsize=8)\n",
    "plt.legend()\n",
    "plt.show()"
   ]
  },
  {
   "cell_type": "markdown",
   "id": "eeb7158c",
   "metadata": {},
   "source": [
    "## Random Forest (GridSearchCV)"
   ]
  },
  {
   "cell_type": "markdown",
   "id": "bcfffc82",
   "metadata": {},
   "source": [
    "### Model Training with Hyperparameter Optimization"
   ]
  },
  {
   "cell_type": "code",
   "execution_count": 21,
   "id": "fc306eea",
   "metadata": {},
   "outputs": [],
   "source": [
    "# hyperparameter grid\n",
    "rf_param_grid = {\n",
    "    'n_estimators': [50, 100, 200],\n",
    "    'max_depth': [3, 5, 7, None],\n",
    "    'min_samples_split': [2, 5, 10],\n",
    "    'class_weight': ['balanced']\n",
    "}"
   ]
  },
  {
   "cell_type": "code",
   "execution_count": 22,
   "id": "22e9c5f8",
   "metadata": {},
   "outputs": [],
   "source": [
    "# Initialize base model\n",
    "rf = RandomForestClassifier(random_state=42)\n",
    "\n",
    "# GridSearch Optimization\n",
    "rf_grid = GridSearchCV(\n",
    "    rf,\n",
    "    rf_param_grid,\n",
    "    cv=cv,\n",
    "    scoring=scoring_metric,\n",
    "    n_jobs=-1\n",
    ")"
   ]
  },
  {
   "cell_type": "code",
   "execution_count": 23,
   "id": "b2258efb",
   "metadata": {},
   "outputs": [],
   "source": [
    "# train model and identify best estimator\n",
    "rf_grid.fit(x_train, y_train)\n",
    "\n",
    "models['Random Forest (GridSearchCV)'] = rf_grid.best_estimator_"
   ]
  },
  {
   "cell_type": "markdown",
   "id": "f808818f",
   "metadata": {},
   "source": [
    "### Apply Model to Make Prediction and Get Probabilities"
   ]
  },
  {
   "cell_type": "code",
   "execution_count": 24,
   "id": "6ac79dff",
   "metadata": {},
   "outputs": [],
   "source": [
    "# make prediction on training and test set\n",
    "train_pred = models['Random Forest (GridSearchCV)'].predict(x_train)\n",
    "test_pred = models[\"Random Forest (GridSearchCV)\"].predict(x_test)"
   ]
  },
  {
   "cell_type": "code",
   "execution_count": 25,
   "id": "9afd1d98",
   "metadata": {},
   "outputs": [],
   "source": [
    "# get predicted probabilities\n",
    "train_proba = models['Random Forest (GridSearchCV)'].predict_proba(x_train)[:, 1]\n",
    "test_proba = models['Random Forest (GridSearchCV)'].predict_proba(x_test)[:, 1]"
   ]
  },
  {
   "cell_type": "code",
   "execution_count": 26,
   "id": "e33f4d37",
   "metadata": {},
   "outputs": [],
   "source": [
    "# store results\n",
    "predictions[\"Random Forest (GridSearchCV)\"] = test_pred\n",
    "probability[\"Random Forest (GridSearchCV)\"] = test_proba"
   ]
  },
  {
   "cell_type": "markdown",
   "id": "60bf917c",
   "metadata": {},
   "source": [
    "### Evaluation of The Model Performance"
   ]
  },
  {
   "cell_type": "code",
   "execution_count": 27,
   "id": "70494ce5",
   "metadata": {},
   "outputs": [],
   "source": [
    "# performance on training set\n",
    "train_auc_roc = roc_auc_score(y_train, train_proba)             # ROC-AUC score\n",
    "train_auc_pr = average_precision_score(y_train, train_proba)    # average precision\n",
    "train_acc = accuracy_score(y_train, train_pred)                 # accuracy score\n",
    "train_precision = precision_score(y_train, train_pred)          # precision score\n",
    "train_recall = recall_score(y_train, train_pred)                # recall score\n",
    "train_f1 = f1_score(y_train, train_pred)                        # f1 score\n",
    "train_accuracy = accuracy_score(y_train, train_pred)            # accuracy score"
   ]
  },
  {
   "cell_type": "code",
   "execution_count": 28,
   "id": "9051288e",
   "metadata": {},
   "outputs": [],
   "source": [
    "# Test Metrics\n",
    "test_auc_roc = roc_auc_score(y_test, test_proba)             # ROC-AUC score\n",
    "test_auc_pr = average_precision_score(y_test, test_proba)    # average precision\n",
    "test_acc = accuracy_score(y_test, test_pred)                 # accuracy score\n",
    "test_precision = precision_score(y_test, test_pred)          # precision score\n",
    "test_recall = recall_score(y_test, test_pred)                # recall score\n",
    "test_f1 = f1_score(y_test, test_pred)                        # f1 score\n",
    "test_accuracy = accuracy_score(y_test, test_pred)            # accuracy score"
   ]
  },
  {
   "cell_type": "code",
   "execution_count": 29,
   "id": "ed082ab9",
   "metadata": {},
   "outputs": [
    {
     "name": "stdout",
     "output_type": "stream",
     "text": [
      "=== Optimized Random Forest Performance ===\n",
      "Metric         Training    Test        \n",
      "---------------------------------------\n",
      "AUC-ROC        0.9105      0.8745      \n",
      "AUC-PR         0.9542      0.9268      \n",
      "Precision      0.8433      0.8571      \n",
      "Recall         0.9642      0.9286      \n",
      "F1-Score       0.8997      0.8914      \n",
      "Accuracy       0.8525      0.8455      \n"
     ]
    }
   ],
   "source": [
    "# performance table\n",
    "print(\"=== Optimized Random Forest Performance ===\")\n",
    "\n",
    "metrics = [\n",
    "    (\"AUC-ROC\", train_auc_roc, test_auc_roc),\n",
    "    ('AUC-PR', train_auc_pr, test_auc_pr),\n",
    "    (\"Precision\", train_precision, test_precision),\n",
    "    (\"Recall\", train_recall, test_recall),\n",
    "    (\"F1-Score\", train_f1, test_f1),\n",
    "    (\"Accuracy\", train_acc, test_acc),\n",
    "]\n",
    "\n",
    "# Print header\n",
    "print(f\"{'Metric':<15}{'Training':<12}{'Test':<12}\")\n",
    "print(\"-\" * 39)\n",
    "\n",
    "# Print each row using a loop\n",
    "for name, train_val, test_val in metrics:\n",
    "    print(f\"{name:<15}{train_val:<12.4f}{test_val:<12.4f}\")"
   ]
  },
  {
   "cell_type": "code",
   "execution_count": 30,
   "id": "f9b29d7e",
   "metadata": {},
   "outputs": [],
   "source": [
    "performance.append({\n",
    "    \"Model\": \"Random Forest (GridSearchCV)\",\n",
    "    'AUC-ROC': test_auc_roc,\n",
    "    'AUC-PR': test_auc_pr,\n",
    "    'Precision': test_precision,\n",
    "    'Recall': test_recall,\n",
    "    'F1-Score': test_f1,\n",
    "    'Accuracy': test_accuracy\n",
    "})"
   ]
  },
  {
   "cell_type": "markdown",
   "id": "150d4325",
   "metadata": {},
   "source": [
    "### ROC Curve"
   ]
  },
  {
   "cell_type": "code",
   "execution_count": 31,
   "id": "9675f3c9",
   "metadata": {},
   "outputs": [],
   "source": [
    "# roc-curve for training and test set\n",
    "train_fpr, train_tpr, _ = roc_curve(y_train, train_proba)\n",
    "test_fpr, test_tpr, _ = roc_curve(y_test,  test_proba)"
   ]
  },
  {
   "cell_type": "code",
   "execution_count": 32,
   "id": "25841d58",
   "metadata": {},
   "outputs": [],
   "source": [
    "# calculate AUC for trainign and test set\n",
    "train_auc = auc(train_fpr, train_tpr)\n",
    "test_auc = auc(test_fpr, test_tpr)"
   ]
  },
  {
   "cell_type": "code",
   "execution_count": 33,
   "id": "7a4862af",
   "metadata": {},
   "outputs": [
    {
     "data": {
      "image/png": "[encoded data removed]",
      "text/plain": [
       "<Figure size 640x480 with 1 Axes>"
      ]
     },
     "metadata": {},
     "output_type": "display_data"
    }
   ],
   "source": [
    "# plotting the curve\n",
    "plt.plot(train_fpr, train_tpr, label=f'Train (AUC = {train_auc:.3f})')\n",
    "plt.plot(test_fpr, test_tpr, label=f'Test (AUC = {test_auc:.3f})')\n",
    "plt.plot([0, 1], [0, 1], 'k--')\n",
    "\n",
    "# set labels\n",
    "plt.xlabel('False Positive Rate')\n",
    "plt.ylabel('True Positive Rate')\n",
    "plt.title(\"Random Forest (GridSeaechCV) ROC-Curves - Train vs Test\", y=1.02, fontsize=8)\n",
    "plt.legend()\n",
    "plt.show()"
   ]
  },
  {
   "cell_type": "markdown",
   "id": "3b325e43",
   "metadata": {},
   "source": [
    "## Support Vector Classification - SVC (BayesSearchCV)"
   ]
  },
  {
   "cell_type": "markdown",
   "id": "abcf816c",
   "metadata": {},
   "source": [
    "### Model Trainign with Bayesian Hyperparameter Optimization"
   ]
  },
  {
   "cell_type": "code",
   "execution_count": 34,
   "id": "3055d023",
   "metadata": {},
   "outputs": [],
   "source": [
    "# Standardize features\n",
    "svc_scaler = StandardScaler()\n",
    "x_train_scale = svc_scaler.fit_transform(x_train)\n",
    "x_test_scale = svc_scaler.transform(x_test)"
   ]
  },
  {
   "cell_type": "code",
   "execution_count": 35,
   "id": "d033381f",
   "metadata": {},
   "outputs": [],
   "source": [
    "# hyperparameter tuning space\n",
    "svc_param_space = {\n",
    "    'C': Real(0.1, 100, prior='log-uniform'),\n",
    "    'gamma': Real(0.001, 1, prior='log-uniform'),\n",
    "    'kernel': Categorical(['rbf', 'linear']),\n",
    "    'class_weight': Categorical(['balanced'])\n",
    "}"
   ]
  },
  {
   "cell_type": "code",
   "execution_count": 36,
   "id": "7faf75bf",
   "metadata": {},
   "outputs": [],
   "source": [
    "# initialize base model\n",
    "svc = SVC(probability=True, random_state=42)\n",
    "\n",
    "# BayesSearch optimization\n",
    "svc_bayes = BayesSearchCV(\n",
    "    svc,\n",
    "    svc_param_space,\n",
    "    cv=cv,\n",
    "    scoring=scoring_metric,\n",
    "    n_iter = 20,\n",
    "    n_jobs=-1,\n",
    "    random_state=42\n",
    ")"
   ]
  },
  {
   "cell_type": "code",
   "execution_count": 37,
   "id": "7bd9e2cd",
   "metadata": {},
   "outputs": [],
   "source": [
    "# train model and identify best estimator\n",
    "svc_bayes.fit(x_train_scale, y_train)\n",
    "\n",
    "models['SVC (BayesSearchCV)'] = svc_bayes.best_estimator_\n",
    "models['SVC Scaler'] = svc_scaler"
   ]
  },
  {
   "cell_type": "markdown",
   "id": "0984c57e",
   "metadata": {},
   "source": [
    "### Apply Model to Make Prediction and Get Probabilities"
   ]
  },
  {
   "cell_type": "code",
   "execution_count": 38,
   "id": "13ba239d",
   "metadata": {},
   "outputs": [],
   "source": [
    "# make prediction on training and test set\n",
    "train_pred = models['SVC (BayesSearchCV)'].predict(x_train_scale)\n",
    "test_pred = models['SVC (BayesSearchCV)'].predict(x_test_scale)"
   ]
  },
  {
   "cell_type": "code",
   "execution_count": 39,
   "id": "422e7d79",
   "metadata": {},
   "outputs": [],
   "source": [
    "# get predicted probabilities\n",
    "train_proba = models['SVC (BayesSearchCV)'].predict_proba(x_train_scale)[:, 1]\n",
    "test_proba = models['SVC (BayesSearchCV)'].predict_proba(x_test_scale)[:, 1]"
   ]
  },
  {
   "cell_type": "code",
   "execution_count": 40,
   "id": "dae40c5f",
   "metadata": {},
   "outputs": [],
   "source": [
    "# store results\n",
    "predictions['SVC (BayesSearchCV)'] = test_pred\n",
    "probability['SVC (BayesSearchCV)'] = test_proba"
   ]
  },
  {
   "cell_type": "markdown",
   "id": "3e9e136b",
   "metadata": {},
   "source": [
    "### Evaluation of The Model Performance"
   ]
  },
  {
   "cell_type": "code",
   "execution_count": 41,
   "id": "5d9cdbc1",
   "metadata": {},
   "outputs": [],
   "source": [
    "# Training Metrics\n",
    "train_auc_roc = roc_auc_score(y_train, train_proba)             # ROC-AUC score\n",
    "train_auc_pr = average_precision_score(y_train, train_proba)    # average precision\n",
    "train_acc = accuracy_score(y_train, train_pred)                 # accuracy score\n",
    "train_precision = precision_score(y_train, train_pred)          # precision score\n",
    "train_recall = recall_score(y_train, train_pred)                # recall score\n",
    "train_f1 = f1_score(y_train, train_pred)                        # f1 score\n",
    "train_accuracy = accuracy_score(y_train, train_pred)            # accuracy score"
   ]
  },
  {
   "cell_type": "code",
   "execution_count": 42,
   "id": "0bba1d15",
   "metadata": {},
   "outputs": [],
   "source": [
    "# Test Metrics\n",
    "test_auc_roc = roc_auc_score(y_test, test_proba)             # ROC-AUC score\n",
    "test_auc_pr = average_precision_score(y_test, test_proba)    # average precision\n",
    "test_acc = accuracy_score(y_test, test_pred)                 # accuracy score\n",
    "test_precision = precision_score(y_test, test_pred)          # precision score\n",
    "test_recall = recall_score(y_test, test_pred)                # recall score\n",
    "test_f1 = f1_score(y_test, test_pred)                        # f1 score\n",
    "test_accuracy = accuracy_score(y_test, test_pred)            # accuracy score"
   ]
  },
  {
   "cell_type": "code",
   "execution_count": 43,
   "id": "5b4ef1b4",
   "metadata": {},
   "outputs": [
    {
     "name": "stdout",
     "output_type": "stream",
     "text": [
      "=== Optimized SVC (BayesSearchCV) Performance ===\n",
      "Metric         Training    Test        \n",
      "---------------------------------------\n",
      "AUC-ROC        0.8422      0.8367      \n",
      "AUC-PR         0.8914      0.8789      \n",
      "Precision      0.8945      0.8909      \n",
      "Recall         0.6328      0.5833      \n",
      "F1-Score       0.7413      0.7050      \n",
      "Accuracy       0.6967      0.6667      \n"
     ]
    }
   ],
   "source": [
    "# performance table\n",
    "print(\"=== Optimized SVC (BayesSearchCV) Performance ===\")\n",
    "\n",
    "metrics = [\n",
    "    (\"AUC-ROC\", train_auc_roc, test_auc_roc),\n",
    "    ('AUC-PR', train_auc_pr, test_auc_pr),\n",
    "    (\"Precision\", train_precision, test_precision),\n",
    "    (\"Recall\", train_recall, test_recall),\n",
    "    (\"F1-Score\", train_f1, test_f1),\n",
    "    (\"Accuracy\", train_acc, test_acc),\n",
    "]\n",
    "\n",
    "# Print header\n",
    "print(f\"{'Metric':<15}{'Training':<12}{'Test':<12}\")\n",
    "print(\"-\" * 39)\n",
    "\n",
    "# Print each row using a loop\n",
    "for name, train_val, test_val in metrics:\n",
    "    print(f\"{name:<15}{train_val:<12.4f}{test_val:<12.4f}\")"
   ]
  },
  {
   "cell_type": "code",
   "execution_count": 44,
   "id": "d5f1290e",
   "metadata": {},
   "outputs": [],
   "source": [
    "# store test set performance\n",
    "performance.append({\n",
    "        'Model': 'SVC (BayesSearchCV)',\n",
    "        'AUC-ROC': test_auc_roc,\n",
    "        'AUC-PR': test_auc_pr,\n",
    "        'Precision': test_precision,\n",
    "        'Recall': test_recall,\n",
    "        'F1-Score': test_f1,\n",
    "        'Accuracy': test_accuracy\n",
    "    })"
   ]
  },
  {
   "cell_type": "markdown",
   "id": "fd903b30",
   "metadata": {},
   "source": [
    "### ROC Curves"
   ]
  },
  {
   "cell_type": "code",
   "execution_count": 45,
   "id": "d3b756d4",
   "metadata": {},
   "outputs": [],
   "source": [
    "# roc curve for training and testing set\n",
    "train_fpr, train_tpr, _ = roc_curve(y_train, train_proba)\n",
    "test_fpr, test_tpr, _ = roc_curve(y_test, test_proba)"
   ]
  },
  {
   "cell_type": "code",
   "execution_count": 46,
   "id": "2a2bd7ab",
   "metadata": {},
   "outputs": [],
   "source": [
    "# calculate AUC for training and testing set\n",
    "train_auc = auc(train_fpr, train_tpr)\n",
    "test_auc = auc(test_fpr, test_tpr)"
   ]
  },
  {
   "cell_type": "code",
   "execution_count": 47,
   "id": "a7418406",
   "metadata": {},
   "outputs": [
    {
     "data": {
      "text/plain": [
       "<Figure size 800x400 with 0 Axes>"
      ]
     },
     "execution_count": 47,
     "metadata": {},
     "output_type": "execute_result"
    },
    {
     "data": {
      "text/plain": [
       "<Figure size 800x400 with 0 Axes>"
      ]
     },
     "metadata": {},
     "output_type": "display_data"
    }
   ],
   "source": [
    "# figure size\n",
    "plt.figure(figsize=(8, 4))"
   ]
  },
  {
   "cell_type": "code",
   "execution_count": 48,
   "id": "aff8dcfb",
   "metadata": {},
   "outputs": [
    {
     "data": {
      "image/png": "[encoded data removed]",
      "text/plain": [
       "<Figure size 640x480 with 1 Axes>"
      ]
     },
     "metadata": {},
     "output_type": "display_data"
    }
   ],
   "source": [
    "# plotting the curve\n",
    "plt.plot(train_fpr, train_tpr, label=f'Train AUC = {train_auc:.3f}')\n",
    "plt.plot(test_fpr, test_tpr, label=f'Test AUC = {test_auc:.3f}')\n",
    "plt.plot([0, 1],  [0, 1], 'k--')\n",
    "\n",
    "plt.xlabel(\"False Positive Rate\")\n",
    "plt.ylabel(\"True Postive Rate\")\n",
    "plt.title('Support Vector Classifier (BayesSearchCV) ROC Curves - Train vs Test',  y=1.02, fontsize=8)\n",
    "\n",
    "plt.legend()\n",
    "plt.show()"
   ]
  },
  {
   "cell_type": "markdown",
   "id": "34d5426d",
   "metadata": {},
   "source": [
    "## LightGBM (Optuna Optimization)"
   ]
  },
  {
   "cell_type": "markdown",
   "id": "a5802d04",
   "metadata": {},
   "source": [
    "### Model Training with Optuna Optimization"
   ]
  },
  {
   "cell_type": "code",
   "execution_count": 49,
   "id": "99994efd",
   "metadata": {},
   "outputs": [],
   "source": [
    "# define the objective function for Optuna optimization\n",
    "def lgb_objective(trial):\n",
    "    params = {\n",
    "        'n_estimators': trial.suggest_int('n_estimators', 50, 500),\n",
    "        'max_depth': trial.suggest_int('max_depth', -1, 10),\n",
    "        'num_leaves': trial.suggest_int('num_leaves', 20, 200),                     # more flexibility in leaf splits\n",
    "        'min_child_samples': trial.suggest_int('min_child_samples', 5, 100),        # min samples in leaf\n",
    "        'learning_rate': trial.suggest_float('learning_rate', 0.01, 0.3, log=True),\n",
    "        'subsample': trial.suggest_float('subsample', 0.6, 1.0),\n",
    "        'colsample_bytree': trial.suggest_float('colsample_bytree', 0.6, 1.0),\n",
    "        'reg_alpha': trial.suggest_float('reg_alpha', 0, 10),\n",
    "        'reg_lambda': trial.suggest_float('reg_lambda', 0, 10),\n",
    "        'random_state': 42,\n",
    "        'n_jobs': -1,\n",
    "        'class_weight': 'balanced',\n",
    "        'force_col_wise': True                                                      # avoid col-wise threading warning\n",
    "    }\n",
    "\n",
    "    model = lgb.LGBMClassifier(**params, verbose=-1)\n",
    "    scores = cross_val_score(model, x_train, y_train, cv=cv, scoring=scoring_metric)\n",
    "\n",
    "    return scores.mean()"
   ]
  },
  {
   "cell_type": "code",
   "execution_count": 50,
   "id": "cd5b2e59",
   "metadata": {},
   "outputs": [],
   "source": [
    "# create an Optuna study to maximize the objective\n",
    "study_lgb = optuna.create_study(direction='maximize')\n",
    "\n",
    "# run the optimization process for 30 trials\n",
    "study_lgb.optimize(lgb_objective, n_trials=30, show_progress_bar=False)"
   ]
  },
  {
   "cell_type": "code",
   "execution_count": 51,
   "id": "38916743",
   "metadata": {},
   "outputs": [],
   "source": [
    "# train the final LightGBM model using the best parameters found by Optuna\n",
    "lgb_best = lgb.LGBMClassifier(**study_lgb.best_params, random_state=42, class_weight='balanced')\n",
    "\n",
    "# fit the best model on the entire training data\n",
    "lgb_best.fit(x_train, y_train)\n",
    "models['LightGBM (Optuna)'] = lgb_best"
   ]
  },
  {
   "cell_type": "markdown",
   "id": "a7383945",
   "metadata": {},
   "source": [
    "### Apply Model to Make Prediction and Get Probabilities"
   ]
  },
  {
   "cell_type": "code",
   "execution_count": 52,
   "id": "572ba406",
   "metadata": {},
   "outputs": [],
   "source": [
    "# make prediction on training and test set\n",
    "train_pred = models['LightGBM (Optuna)'].predict(x_train)\n",
    "test_pred = models['LightGBM (Optuna)'].predict(x_test)"
   ]
  },
  {
   "cell_type": "code",
   "execution_count": 53,
   "id": "a50161e9",
   "metadata": {},
   "outputs": [],
   "source": [
    "# get predicted probabilities\n",
    "train_proba = models['LightGBM (Optuna)'].predict_proba(x_train)[:, 1]\n",
    "test_proba = models['LightGBM (Optuna)'].predict_proba(x_test)[:, 1]"
   ]
  },
  {
   "cell_type": "code",
   "execution_count": 54,
   "id": "6beb1d0e",
   "metadata": {},
   "outputs": [],
   "source": [
    "# store results\n",
    "predictions[\"LightGBM (Optuna)\"] = test_pred\n",
    "probability[\"LightGBM (Optuna)\"] = test_proba"
   ]
  },
  {
   "cell_type": "markdown",
   "id": "da4f0527",
   "metadata": {},
   "source": [
    "### Evaluation of The Model Performance"
   ]
  },
  {
   "cell_type": "code",
   "execution_count": 55,
   "id": "4d51c690",
   "metadata": {},
   "outputs": [],
   "source": [
    "# Training Metrics\n",
    "train_auc_roc = roc_auc_score(y_train, train_proba)             # ROC-AUC score\n",
    "train_auc_pr = average_precision_score(y_train, train_proba)    # average precision\n",
    "train_acc = accuracy_score(y_train, train_pred)                 # accuracy score\n",
    "train_precision = precision_score(y_train, train_pred)          # precision score\n",
    "train_recall = recall_score(y_train, train_pred)                # recall score\n",
    "train_f1 = f1_score(y_train, train_pred)                        # f1 score\n",
    "train_accuracy = accuracy_score(y_train, train_pred)            # accuracy score"
   ]
  },
  {
   "cell_type": "code",
   "execution_count": 56,
   "id": "5f82cf82",
   "metadata": {},
   "outputs": [],
   "source": [
    "# Test Metrics\n",
    "test_auc_roc = roc_auc_score(y_test, test_proba)             # ROC-AUC score\n",
    "test_auc_pr = average_precision_score(y_test, test_proba)    # average precision\n",
    "test_acc = accuracy_score(y_test, test_pred)                 # accuracy score\n",
    "test_precision = precision_score(y_test, test_pred)          # precision score\n",
    "test_recall = recall_score(y_test, test_pred)                # recall score\n",
    "test_f1 = f1_score(y_test, test_pred)                        # f1 score\n",
    "test_accuracy = accuracy_score(y_test, test_pred)            # accuracy score"
   ]
  },
  {
   "cell_type": "code",
   "execution_count": 57,
   "id": "de570072",
   "metadata": {},
   "outputs": [
    {
     "name": "stdout",
     "output_type": "stream",
     "text": [
      "=== Optimized LightGBM (Optuna) Performance ===\n",
      "Metric         Training    Test        \n",
      "---------------------------------------\n",
      "AUC-ROC        0.8872      0.8861      \n",
      "AUC-PR         0.9419      0.9355      \n",
      "Precision      0.8671      0.8795      \n",
      "Recall         0.8955      0.8690      \n",
      "F1-Score       0.8811      0.8743      \n",
      "Accuracy       0.8340      0.8293      \n"
     ]
    }
   ],
   "source": [
    "# performance table\n",
    "print(\"=== Optimized LightGBM (Optuna) Performance ===\")\n",
    "\n",
    "metrics = [\n",
    "    (\"AUC-ROC\", train_auc_roc, test_auc_roc),\n",
    "    ('AUC-PR', train_auc_pr, test_auc_pr),\n",
    "    (\"Precision\", train_precision, test_precision),\n",
    "    (\"Recall\", train_recall, test_recall),\n",
    "    (\"F1-Score\", train_f1, test_f1),\n",
    "    (\"Accuracy\", train_acc, test_acc),\n",
    "]\n",
    "\n",
    "# Print header\n",
    "print(f\"{'Metric':<15}{'Training':<12}{'Test':<12}\")\n",
    "print(\"-\" * 39)\n",
    "\n",
    "# Print each row using a loop\n",
    "for name, train_val, test_val in metrics:\n",
    "    print(f\"{name:<15}{train_val:<12.4f}{test_val:<12.4f}\")"
   ]
  },
  {
   "cell_type": "code",
   "execution_count": 58,
   "id": "bdd5728c",
   "metadata": {},
   "outputs": [],
   "source": [
    "# store test set performance\n",
    "performance.append({\n",
    "        'Model': 'LightGBM (Optuna)',\n",
    "        'AUC-ROC': test_auc_roc,\n",
    "        'AUC-PR': test_auc_pr,\n",
    "        'Precision': test_precision,\n",
    "        'Recall': test_recall,\n",
    "        'F1-Score': test_f1,\n",
    "        'Accuracy': test_accuracy\n",
    "    })"
   ]
  },
  {
   "cell_type": "markdown",
   "id": "938ef4b0",
   "metadata": {},
   "source": [
    "### ROC Curves"
   ]
  },
  {
   "cell_type": "code",
   "execution_count": 59,
   "id": "0065786e",
   "metadata": {},
   "outputs": [],
   "source": [
    "# roc curve for training and testing set\n",
    "train_fpr, train_tpr, _ = roc_curve(y_train, train_proba)\n",
    "test_fpr, test_tpr, _ = roc_curve(y_test, test_proba)"
   ]
  },
  {
   "cell_type": "code",
   "execution_count": 60,
   "id": "60309735",
   "metadata": {},
   "outputs": [],
   "source": [
    "# calculate AUC for training and testing set\n",
    "train_auc = auc(train_fpr, train_tpr)\n",
    "test_auc = auc(test_fpr, test_tpr)"
   ]
  },
  {
   "cell_type": "code",
   "execution_count": 61,
   "id": "1d7ff860",
   "metadata": {},
   "outputs": [
    {
     "data": {
      "text/plain": [
       "<Figure size 800x400 with 0 Axes>"
      ]
     },
     "execution_count": 61,
     "metadata": {},
     "output_type": "execute_result"
    },
    {
     "data": {
      "text/plain": [
       "<Figure size 800x400 with 0 Axes>"
      ]
     },
     "metadata": {},
     "output_type": "display_data"
    }
   ],
   "source": [
    "# figure size\n",
    "plt.figure(figsize=(8, 4))"
   ]
  },
  {
   "cell_type": "code",
   "execution_count": 62,
   "id": "7cf82eeb",
   "metadata": {},
   "outputs": [
    {
     "data": {
      "image/png": "[encoded data removed]",
      "text/plain": [
       "<Figure size 640x480 with 1 Axes>"
      ]
     },
     "metadata": {},
     "output_type": "display_data"
    }
   ],
   "source": [
    "# plotting the curve\n",
    "plt.plot(train_fpr, train_tpr, label=f'Train AUC = {train_auc:.3f}')\n",
    "plt.plot(test_fpr, test_tpr, label=f'Test AUC = {test_auc:.3f}')\n",
    "plt.plot([0, 1],  [0, 1], 'k--')\n",
    "\n",
    "plt.xlabel(\"False Positive Rate\")\n",
    "plt.ylabel(\"True Postive Rate\")\n",
    "plt.title('LightGBM (Optuna) ROC Curves - Train vs Test',  y=1.02, fontsize=8)\n",
    "\n",
    "plt.legend()\n",
    "plt.show()"
   ]
  },
  {
   "cell_type": "markdown",
   "id": "eae76f6f",
   "metadata": {},
   "source": [
    "## XGBoost (Optuna Optimization)"
   ]
  },
  {
   "cell_type": "markdown",
   "id": "2a671277",
   "metadata": {},
   "source": [
    "### Model Training with Optuna Optimization"
   ]
  },
  {
   "cell_type": "code",
   "execution_count": 63,
   "id": "fd9b8a6c",
   "metadata": {},
   "outputs": [],
   "source": [
    "# define the objective function for Optuna optimization\n",
    "def xgb_objective(trial):\n",
    "    scale_pos_weight = (len(y_train) - sum(y_train)) / sum(y_train)\n",
    "    params = {\n",
    "        'n_estimators': trial.suggest_int('n_estimators', 50, 500),\n",
    "        'max_depth': trial.suggest_int('max_depth', 3, 15),\n",
    "        'min_child_weight': trial.suggest_int('min_child_weight', 1, 10),               # min samples in leaf\n",
    "        'learning_rate': trial.suggest_float('learning_rate', 0.01, 0.3, log=True),\n",
    "        'subsample': trial.suggest_float('subsample', 0.6, 1.0),\n",
    "        'colsample_bytree': trial.suggest_float('colsample_bytree', 0.6, 1.0),\n",
    "        'gamma': trial.suggest_float('gamma', 0, 15),\n",
    "        'reg_alpha': trial.suggest_float('reg_alpha', 0, 10),\n",
    "        'reg_lambda': trial.suggest_float('reg_lambda', 0, 10),\n",
    "        'scale_pos_weight': scale_pos_weight,\n",
    "        'random_state': 42,\n",
    "        'n_jobs': -1,\n",
    "        'eval_metric': 'logloss',\n",
    "        'use_label_encoder': False                                                      # prevents warning in classification                                                          # avoid col-wise threading warning\n",
    "    }\n",
    "\n",
    "    model = xgb.XGBClassifier(**params)\n",
    "    scores = cross_val_score(model, x_train, y_train, cv=cv, scoring=scoring_metric)\n",
    "\n",
    "    return scores.mean()"
   ]
  },
  {
   "cell_type": "code",
   "execution_count": 64,
   "id": "b191ea92",
   "metadata": {},
   "outputs": [],
   "source": [
    "# create an Optuna study to maximize the objective\n",
    "study_xgb = optuna.create_study(direction='maximize')\n",
    "\n",
    "# run the optimization process for 30 trials\n",
    "study_xgb.optimize(xgb_objective, n_trials=30, show_progress_bar=False)"
   ]
  },
  {
   "cell_type": "code",
   "execution_count": 65,
   "id": "6571e71b",
   "metadata": {},
   "outputs": [],
   "source": [
    "# train the final XGBoost model using the best parameters found by Optuna\n",
    "xgb_best = xgb.XGBClassifier(**study_xgb.best_params, random_state=42)\n",
    "\n",
    "# fit the best model on the entire training data\n",
    "xgb_best.fit(x_train, y_train)\n",
    "models['XGBoost (Optuna)'] = xgb_best"
   ]
  },
  {
   "cell_type": "markdown",
   "id": "b985eee0",
   "metadata": {},
   "source": [
    "### Apply Model to Make Prediction and Get Probabilities"
   ]
  },
  {
   "cell_type": "code",
   "execution_count": 66,
   "id": "49f43adc",
   "metadata": {},
   "outputs": [],
   "source": [
    "# make prediction on training and test set\n",
    "train_pred = models['XGBoost (Optuna)'].predict(x_train)\n",
    "test_pred = models['XGBoost (Optuna)'].predict(x_test)"
   ]
  },
  {
   "cell_type": "code",
   "execution_count": 67,
   "metadata": {},
   "outputs": [],
   "source": [
    "# get predicted probabilities\n",
    "train_proba = models['XGBoost (Optuna)'].predict_proba(x_train)[:, 1]\n",
    "test_proba = models['XGBoost (Optuna)'].predict_proba(x_test)[:, 1]"
   ]
  },
  {
   "cell_type": "code",
   "execution_count": 68,
   "id": "1704c985",
   "metadata": {},
   "outputs": [],
   "source": [
    "# store results\n",
    "predictions[\"XGBoost (Optuna)\"] = test_pred\n",
    "probability[\"XGBoost (Optuna)\"] = test_proba"
   ]
  },
  {
   "cell_type": "markdown",
   "id": "375025b6",
   "metadata": {},
   "source": [
    "### Evaluation of The Model Performance"
   ]
  },
  {
   "cell_type": "code",
   "execution_count": 69,
   "id": "cbedf8a3",
   "metadata": {},
   "outputs": [],
   "source": [
    "# Training Metrics\n",
    "train_auc_roc = roc_auc_score(y_train, train_proba)             # ROC-AUC score\n",
    "train_auc_pr = average_precision_score(y_train, train_proba)    # average precision\n",
    "train_acc = accuracy_score(y_train, train_pred)                 # accuracy score\n",
    "train_precision = precision_score(y_train, train_pred)          # precision score\n",
    "train_recall = recall_score(y_train, train_pred)                # recall score\n",
    "train_f1 = f1_score(y_train, train_pred)                        # f1 score\n",
    "train_accuracy = accuracy_score(y_train, train_pred)            # accuracy score"
   ]
  },
  {
   "cell_type": "code",
   "execution_count": 70,
   "id": "b68bcbe0",
   "metadata": {},
   "outputs": [],
   "source": [
    "# Test Metrics\n",
    "test_auc_roc = roc_auc_score(y_test, test_proba)             # ROC-AUC score\n",
    "test_auc_pr = average_precision_score(y_test, test_proba)    # average precision\n",
    "test_acc = accuracy_score(y_test, test_pred)                 # accuracy score\n",
    "test_precision = precision_score(y_test, test_pred)          # precision score\n",
    "test_recall = recall_score(y_test, test_pred)                # recall score\n",
    "test_f1 = f1_score(y_test, test_pred)                        # f1 score\n",
    "test_accuracy = accuracy_score(y_test, test_pred)            # accuracy score"
   ]
  },
  {
   "cell_type": "code",
   "execution_count": 71,
   "id": "43b50764",
   "metadata": {},
   "outputs": [
    {
     "name": "stdout",
     "output_type": "stream",
     "text": [
      "=== Optimized XGBoost (Optuna) Performance ===\n",
      "Metric         Training    Test        \n",
      "---------------------------------------\n",
      "AUC-ROC        0.8032      0.8217      \n",
      "AUC-PR         0.8844      0.8904      \n",
      "Precision      0.7810      0.8235      \n",
      "Recall         0.9791      1.0000      \n",
      "F1-Score       0.8689      0.9032      \n",
      "Accuracy       0.7971      0.8537      \n"
     ]
    }
   ],
   "source": [
    "# performance table\n",
    "print(\"=== Optimized XGBoost (Optuna) Performance ===\")\n",
    "\n",
    "metrics = [\n",
    "    (\"AUC-ROC\", train_auc_roc, test_auc_roc),\n",
    "    ('AUC-PR', train_auc_pr, test_auc_pr),\n",
    "    (\"Precision\", train_precision, test_precision),\n",
    "    (\"Recall\", train_recall, test_recall),\n",
    "    (\"F1-Score\", train_f1, test_f1),\n",
    "    (\"Accuracy\", train_acc, test_acc),\n",
    "]\n",
    "\n",
    "# Print header\n",
    "print(f\"{'Metric':<15}{'Training':<12}{'Test':<12}\")\n",
    "print(\"-\" * 39)\n",
    "\n",
    "# Print each row using a loop\n",
    "for name, train_val, test_val in metrics:\n",
    "    print(f\"{name:<15}{train_val:<12.4f}{test_val:<12.4f}\")"
   ]
  },
  {
   "cell_type": "code",
   "execution_count": 72,
   "id": "64fecaee",
   "metadata": {},
   "outputs": [],
   "source": [
    "# store test set performance\n",
    "performance.append({\n",
    "        'Model': 'XGBoost (Optuna)',\n",
    "        'AUC-ROC': test_auc_roc,\n",
    "        'AUC-PR': test_auc_pr,\n",
    "        'Precision': test_precision,\n",
    "        'Recall': test_recall,\n",
    "        'F1-Score': test_f1,\n",
    "        'Accuracy': test_accuracy\n",
    "    })"
   ]
  },
  {
   "cell_type": "markdown",
   "id": "e19a5d01",
   "metadata": {},
   "source": [
    "### ROC Curves"
   ]
  },
  {
   "cell_type": "code",
   "execution_count": 73,
   "id": "caba4530",
   "metadata": {},
   "outputs": [],
   "source": [
    "# roc curve for training and testing set\n",
    "train_fpr, train_tpr, _ = roc_curve(y_train, train_proba)\n",
    "test_fpr, test_tpr, _ = roc_curve(y_test, test_proba)"
   ]
  },
  {
   "cell_type": "code",
   "execution_count": 74,
   "id": "66644d3d",
   "metadata": {},
   "outputs": [],
   "source": [
    "# calculate AUC for training and testing set\n",
    "train_auc = auc(train_fpr, train_tpr)\n",
    "test_auc = auc(test_fpr, test_tpr)"
   ]
  },
  {
   "cell_type": "code",
   "execution_count": 75,
   "id": "bc4176ba",
   "metadata": {},
   "outputs": [
    {
     "data": {
      "text/plain": [
       "<Figure size 800x400 with 0 Axes>"
      ]
     },
     "execution_count": 75,
     "metadata": {},
     "output_type": "execute_result"
    },
    {
     "data": {
      "text/plain": [
       "<Figure size 800x400 with 0 Axes>"
      ]
     },
     "metadata": {},
     "output_type": "display_data"
    }
   ],
   "source": [
    "# figure size\n",
    "plt.figure(figsize=(8, 4))"
   ]
  },
  {
   "cell_type": "code",
   "execution_count": 76,
   "id": "73f2dd71",
   "metadata": {},
   "outputs": [
    {
     "data": {
      "image/png": "[encoded data removed]",
      "text/plain": [
       "<Figure size 640x480 with 1 Axes>"
      ]
     },
     "metadata": {},
     "output_type": "display_data"
    }
   ],
   "source": [
    "# plotting the curve\n",
    "plt.plot(train_fpr, train_tpr, label=f'Train AUC = {train_auc:.3f}')\n",
    "plt.plot(test_fpr, test_tpr, label=f'Test AUC = {test_auc:.3f}')\n",
    "plt.plot([0, 1],  [0, 1], 'k--')\n",
    "\n",
    "plt.xlabel(\"False Positive Rate\")\n",
    "plt.ylabel(\"True Postive Rate\")\n",
    "plt.title('XGBoost (Optuna) ROC Curves - Train vs Test',  y=1.02, fontsize=8)\n",
    "\n",
    "plt.legend()\n",
    "plt.show()"
   ]
  },
  {
   "cell_type": "markdown",
   "id": "00c025cc",
   "metadata": {},
   "source": [
    "## Neural Network (Fixed Architecture)"
   ]
  },
  {
   "cell_type": "markdown",
   "id": "14fd6a98",
   "metadata": {},
   "source": [
    "### Model Training with Optuna Optimization"
   ]
  },
  {
   "cell_type": "code",
   "execution_count": null,
   "id": "49a3f85e",
   "metadata": {},
   "outputs": [],
   "source": [
    "# feature scaling\n",
    "nn_scaler = StandardScaler()\n",
    "x_train_scale = nn_scaler.fit_transform(x_train)\n",
    "x_test_scale = nn_scaler.transform(x_test)"
   ]
  },
  {
   "cell_type": "code",
   "execution_count": null,
   "id": "cf7de537",
   "metadata": {},
   "outputs": [],
   "source": [
    "# Creates and compiles a simple feedforward neural network for binary classification\n",
    "def create_nn_model():\n",
    "    model = Sequential([\n",
    "        Dense(64, activation='relu', input_shape=(x_train.shape[1],)),\n",
    "        Dropout(0.3),\n",
    "        Dense(32, activation='relu'),\n",
    "        Dropout(0.3),\n",
    "        Dense(1, activation='sigmoid')\n",
    "    ])\n",
    "\n",
    "    model.compile(optimizer=Adam(learning_rate=0.001), loss='binary_crossentropy', metrics=['AUC'])\n",
    "    \n",
    "    return model"
   ]
  },
  {
   "cell_type": "code",
   "execution_count": null,
   "id": "a1ff47e6",
   "metadata": {},
   "outputs": [
    {
     "data": {
      "text/html": [
       "<style>#sk-container-id-1 {\n",
       "  /* Definition of color scheme common for light and dark mode */\n",
       "  --sklearn-color-text: #000;\n",
       "  --sklearn-color-text-muted: #666;\n",
       "  --sklearn-color-line: gray;\n",
       "  /* Definition of color scheme for unfitted estimators */\n",
       "  --sklearn-color-unfitted-level-0: #fff5e6;\n",
       "  --sklearn-color-unfitted-level-1: #f6e4d2;\n",
       "  --sklearn-color-unfitted-level-2: #ffe0b3;\n",
       "  --sklearn-color-unfitted-level-3: chocolate;\n",
       "  /* Definition of color scheme for fitted estimators */\n",
       "  --sklearn-color-fitted-level-0: #f0f8ff;\n",
       "  --sklearn-color-fitted-level-1: #d4ebff;\n",
       "  --sklearn-color-fitted-level-2: #b3dbfd;\n",
       "  --sklearn-color-fitted-level-3: cornflowerblue;\n",
       "\n",
       "  /* Specific color for light theme */\n",
       "  --sklearn-color-text-on-default-background: var(--sg-text-color, var(--theme-code-foreground, var(--jp-content-font-color1, black)));\n",
       "  --sklearn-color-background: var(--sg-background-color, var(--theme-background, var(--jp-layout-color0, white)));\n",
       "  --sklearn-color-border-box: var(--sg-text-color, var(--theme-code-foreground, var(--jp-content-font-color1, black)));\n",
       "  --sklearn-color-icon: #696969;\n",
       "\n",
       "  @media (prefers-color-scheme: dark) {\n",
       "    /* Redefinition of color scheme for dark theme */\n",
       "    --sklearn-color-text-on-default-background: var(--sg-text-color, var(--theme-code-foreground, var(--jp-content-font-color1, white)));\n",
       "    --sklearn-color-background: var(--sg-background-color, var(--theme-background, var(--jp-layout-color0, #111)));\n",
       "    --sklearn-color-border-box: var(--sg-text-color, var(--theme-code-foreground, var(--jp-content-font-color1, white)));\n",
       "    --sklearn-color-icon: #878787;\n",
       "  }\n",
       "}\n",
       "\n",
       "#sk-container-id-1 {\n",
       "  color: var(--sklearn-color-text);\n",
       "}\n",
       "\n",
       "#sk-container-id-1 pre {\n",
       "  padding: 0;\n",
       "}\n",
       "\n",
       "#sk-container-id-1 input.sk-hidden--visually {\n",
       "  border: 0;\n",
       "  clip: rect(1px 1px 1px 1px);\n",
       "  clip: rect(1px, 1px, 1px, 1px);\n",
       "  height: 1px;\n",
       "  margin: -1px;\n",
       "  overflow: hidden;\n",
       "  padding: 0;\n",
       "  position: absolute;\n",
       "  width: 1px;\n",
       "}\n",
       "\n",
       "#sk-container-id-1 div.sk-dashed-wrapped {\n",
       "  border: 1px dashed var(--sklearn-color-line);\n",
       "  margin: 0 0.4em 0.5em 0.4em;\n",
       "  box-sizing: border-box;\n",
       "  padding-bottom: 0.4em;\n",
       "  background-color: var(--sklearn-color-background);\n",
       "}\n",
       "\n",
       "#sk-container-id-1 div.sk-container {\n",
       "  /* jupyter's `normalize.less` sets `[hidden] { display: none; }`\n",
       "     but bootstrap.min.css set `[hidden] { display: none !important; }`\n",
       "     so we also need the `!important` here to be able to override the\n",
       "     default hidden behavior on the sphinx rendered scikit-learn.org.\n",
       "     See: https://github.com/scikit-learn/scikit-learn/issues/21755 */\n",
       "  display: inline-block !important;\n",
       "  position: relative;\n",
       "}\n",
       "\n",
       "#sk-container-id-1 div.sk-text-repr-fallback {\n",
       "  display: none;\n",
       "}\n",
       "\n",
       "div.sk-parallel-item,\n",
       "div.sk-serial,\n",
       "div.sk-item {\n",
       "  /* draw centered vertical line to link estimators */\n",
       "  background-image: linear-gradient(var(--sklearn-color-text-on-default-background), var(--sklearn-color-text-on-default-background));\n",
       "  background-size: 2px 100%;\n",
       "  background-repeat: no-repeat;\n",
       "  background-position: center center;\n",
       "}\n",
       "\n",
       "/* Parallel-specific style estimator block */\n",
       "\n",
       "#sk-container-id-1 div.sk-parallel-item::after {\n",
       "  content: \"\";\n",
       "  width: 100%;\n",
       "  border-bottom: 2px solid var(--sklearn-color-text-on-default-background);\n",
       "  flex-grow: 1;\n",
       "}\n",
       "\n",
       "#sk-container-id-1 div.sk-parallel {\n",
       "  display: flex;\n",
       "  align-items: stretch;\n",
       "  justify-content: center;\n",
       "  background-color: var(--sklearn-color-background);\n",
       "  position: relative;\n",
       "}\n",
       "\n",
       "#sk-container-id-1 div.sk-parallel-item {\n",
       "  display: flex;\n",
       "  flex-direction: column;\n",
       "}\n",
       "\n",
       "#sk-container-id-1 div.sk-parallel-item:first-child::after {\n",
       "  align-self: flex-end;\n",
       "  width: 50%;\n",
       "}\n",
       "\n",
       "#sk-container-id-1 div.sk-parallel-item:last-child::after {\n",
       "  align-self: flex-start;\n",
       "  width: 50%;\n",
       "}\n",
       "\n",
       "#sk-container-id-1 div.sk-parallel-item:only-child::after {\n",
       "  width: 0;\n",
       "}\n",
       "\n",
       "/* Serial-specific style estimator block */\n",
       "\n",
       "#sk-container-id-1 div.sk-serial {\n",
       "  display: flex;\n",
       "  flex-direction: column;\n",
       "  align-items: center;\n",
       "  background-color: var(--sklearn-color-background);\n",
       "  padding-right: 1em;\n",
       "  padding-left: 1em;\n",
       "}\n",
       "\n",
       "\n",
       "/* Toggleable style: style used for estimator/Pipeline/ColumnTransformer box that is\n",
       "clickable and can be expanded/collapsed.\n",
       "- Pipeline and ColumnTransformer use this feature and define the default style\n",
       "- Estimators will overwrite some part of the style using the `sk-estimator` class\n",
       "*/\n",
       "\n",
       "/* Pipeline and ColumnTransformer style (default) */\n",
       "\n",
       "#sk-container-id-1 div.sk-toggleable {\n",
       "  /* Default theme specific background. It is overwritten whether we have a\n",
       "  specific estimator or a Pipeline/ColumnTransformer */\n",
       "  background-color: var(--sklearn-color-background);\n",
       "}\n",
       "\n",
       "/* Toggleable label */\n",
       "#sk-container-id-1 label.sk-toggleable__label {\n",
       "  cursor: pointer;\n",
       "  display: flex;\n",
       "  width: 100%;\n",
       "  margin-bottom: 0;\n",
       "  padding: 0.5em;\n",
       "  box-sizing: border-box;\n",
       "  text-align: center;\n",
       "  align-items: start;\n",
       "  justify-content: space-between;\n",
       "  gap: 0.5em;\n",
       "}\n",
       "\n",
       "#sk-container-id-1 label.sk-toggleable__label .caption {\n",
       "  font-size: 0.6rem;\n",
       "  font-weight: lighter;\n",
       "  color: var(--sklearn-color-text-muted);\n",
       "}\n",
       "\n",
       "#sk-container-id-1 label.sk-toggleable__label-arrow:before {\n",
       "  /* Arrow on the left of the label */\n",
       "  content: \"▸\";\n",
       "  float: left;\n",
       "  margin-right: 0.25em;\n",
       "  color: var(--sklearn-color-icon);\n",
       "}\n",
       "\n",
       "#sk-container-id-1 label.sk-toggleable__label-arrow:hover:before {\n",
       "  color: var(--sklearn-color-text);\n",
       "}\n",
       "\n",
       "/* Toggleable content - dropdown */\n",
       "\n",
       "#sk-container-id-1 div.sk-toggleable__content {\n",
       "  display: none;\n",
       "  text-align: left;\n",
       "  /* unfitted */\n",
       "  background-color: var(--sklearn-color-unfitted-level-0);\n",
       "}\n",
       "\n",
       "#sk-container-id-1 div.sk-toggleable__content.fitted {\n",
       "  /* fitted */\n",
       "  background-color: var(--sklearn-color-fitted-level-0);\n",
       "}\n",
       "\n",
       "#sk-container-id-1 div.sk-toggleable__content pre {\n",
       "  margin: 0.2em;\n",
       "  border-radius: 0.25em;\n",
       "  color: var(--sklearn-color-text);\n",
       "  /* unfitted */\n",
       "  background-color: var(--sklearn-color-unfitted-level-0);\n",
       "}\n",
       "\n",
       "#sk-container-id-1 div.sk-toggleable__content.fitted pre {\n",
       "  /* unfitted */\n",
       "  background-color: var(--sklearn-color-fitted-level-0);\n",
       "}\n",
       "\n",
       "#sk-container-id-1 input.sk-toggleable__control:checked~div.sk-toggleable__content {\n",
       "  /* Expand drop-down */\n",
       "  display: block;\n",
       "  width: 100%;\n",
       "  overflow: visible;\n",
       "}\n",
       "\n",
       "#sk-container-id-1 input.sk-toggleable__control:checked~label.sk-toggleable__label-arrow:before {\n",
       "  content: \"▾\";\n",
       "}\n",
       "\n",
       "/* Pipeline/ColumnTransformer-specific style */\n",
       "\n",
       "#sk-container-id-1 div.sk-label input.sk-toggleable__control:checked~label.sk-toggleable__label {\n",
       "  color: var(--sklearn-color-text);\n",
       "  background-color: var(--sklearn-color-unfitted-level-2);\n",
       "}\n",
       "\n",
       "#sk-container-id-1 div.sk-label.fitted input.sk-toggleable__control:checked~label.sk-toggleable__label {\n",
       "  background-color: var(--sklearn-color-fitted-level-2);\n",
       "}\n",
       "\n",
       "/* Estimator-specific style */\n",
       "\n",
       "/* Colorize estimator box */\n",
       "#sk-container-id-1 div.sk-estimator input.sk-toggleable__control:checked~label.sk-toggleable__label {\n",
       "  /* unfitted */\n",
       "  background-color: var(--sklearn-color-unfitted-level-2);\n",
       "}\n",
       "\n",
       "#sk-container-id-1 div.sk-estimator.fitted input.sk-toggleable__control:checked~label.sk-toggleable__label {\n",
       "  /* fitted */\n",
       "  background-color: var(--sklearn-color-fitted-level-2);\n",
       "}\n",
       "\n",
       "#sk-container-id-1 div.sk-label label.sk-toggleable__label,\n",
       "#sk-container-id-1 div.sk-label label {\n",
       "  /* The background is the default theme color */\n",
       "  color: var(--sklearn-color-text-on-default-background);\n",
       "}\n",
       "\n",
       "/* On hover, darken the color of the background */\n",
       "#sk-container-id-1 div.sk-label:hover label.sk-toggleable__label {\n",
       "  color: var(--sklearn-color-text);\n",
       "  background-color: var(--sklearn-color-unfitted-level-2);\n",
       "}\n",
       "\n",
       "/* Label box, darken color on hover, fitted */\n",
       "#sk-container-id-1 div.sk-label.fitted:hover label.sk-toggleable__label.fitted {\n",
       "  color: var(--sklearn-color-text);\n",
       "  background-color: var(--sklearn-color-fitted-level-2);\n",
       "}\n",
       "\n",
       "/* Estimator label */\n",
       "\n",
       "#sk-container-id-1 div.sk-label label {\n",
       "  font-family: monospace;\n",
       "  font-weight: bold;\n",
       "  display: inline-block;\n",
       "  line-height: 1.2em;\n",
       "}\n",
       "\n",
       "#sk-container-id-1 div.sk-label-container {\n",
       "  text-align: center;\n",
       "}\n",
       "\n",
       "/* Estimator-specific */\n",
       "#sk-container-id-1 div.sk-estimator {\n",
       "  font-family: monospace;\n",
       "  border: 1px dotted var(--sklearn-color-border-box);\n",
       "  border-radius: 0.25em;\n",
       "  box-sizing: border-box;\n",
       "  margin-bottom: 0.5em;\n",
       "  /* unfitted */\n",
       "  background-color: var(--sklearn-color-unfitted-level-0);\n",
       "}\n",
       "\n",
       "#sk-container-id-1 div.sk-estimator.fitted {\n",
       "  /* fitted */\n",
       "  background-color: var(--sklearn-color-fitted-level-0);\n",
       "}\n",
       "\n",
       "/* on hover */\n",
       "#sk-container-id-1 div.sk-estimator:hover {\n",
       "  /* unfitted */\n",
       "  background-color: var(--sklearn-color-unfitted-level-2);\n",
       "}\n",
       "\n",
       "#sk-container-id-1 div.sk-estimator.fitted:hover {\n",
       "  /* fitted */\n",
       "  background-color: var(--sklearn-color-fitted-level-2);\n",
       "}\n",
       "\n",
       "/* Specification for estimator info (e.g. \"i\" and \"?\") */\n",
       "\n",
       "/* Common style for \"i\" and \"?\" */\n",
       "\n",
       ".sk-estimator-doc-link,\n",
       "a:link.sk-estimator-doc-link,\n",
       "a:visited.sk-estimator-doc-link {\n",
       "  float: right;\n",
       "  font-size: smaller;\n",
       "  line-height: 1em;\n",
       "  font-family: monospace;\n",
       "  background-color: var(--sklearn-color-background);\n",
       "  border-radius: 1em;\n",
       "  height: 1em;\n",
       "  width: 1em;\n",
       "  text-decoration: none !important;\n",
       "  margin-left: 0.5em;\n",
       "  text-align: center;\n",
       "  /* unfitted */\n",
       "  border: var(--sklearn-color-unfitted-level-1) 1pt solid;\n",
       "  color: var(--sklearn-color-unfitted-level-1);\n",
       "}\n",
       "\n",
       ".sk-estimator-doc-link.fitted,\n",
       "a:link.sk-estimator-doc-link.fitted,\n",
       "a:visited.sk-estimator-doc-link.fitted {\n",
       "  /* fitted */\n",
       "  border: var(--sklearn-color-fitted-level-1) 1pt solid;\n",
       "  color: var(--sklearn-color-fitted-level-1);\n",
       "}\n",
       "\n",
       "/* On hover */\n",
       "div.sk-estimator:hover .sk-estimator-doc-link:hover,\n",
       ".sk-estimator-doc-link:hover,\n",
       "div.sk-label-container:hover .sk-estimator-doc-link:hover,\n",
       ".sk-estimator-doc-link:hover {\n",
       "  /* unfitted */\n",
       "  background-color: var(--sklearn-color-unfitted-level-3);\n",
       "  color: var(--sklearn-color-background);\n",
       "  text-decoration: none;\n",
       "}\n",
       "\n",
       "div.sk-estimator.fitted:hover .sk-estimator-doc-link.fitted:hover,\n",
       ".sk-estimator-doc-link.fitted:hover,\n",
       "div.sk-label-container:hover .sk-estimator-doc-link.fitted:hover,\n",
       ".sk-estimator-doc-link.fitted:hover {\n",
       "  /* fitted */\n",
       "  background-color: var(--sklearn-color-fitted-level-3);\n",
       "  color: var(--sklearn-color-background);\n",
       "  text-decoration: none;\n",
       "}\n",
       "\n",
       "/* Span, style for the box shown on hovering the info icon */\n",
       ".sk-estimator-doc-link span {\n",
       "  display: none;\n",
       "  z-index: 9999;\n",
       "  position: relative;\n",
       "  font-weight: normal;\n",
       "  right: .2ex;\n",
       "  padding: .5ex;\n",
       "  margin: .5ex;\n",
       "  width: min-content;\n",
       "  min-width: 20ex;\n",
       "  max-width: 50ex;\n",
       "  color: var(--sklearn-color-text);\n",
       "  box-shadow: 2pt 2pt 4pt #999;\n",
       "  /* unfitted */\n",
       "  background: var(--sklearn-color-unfitted-level-0);\n",
       "  border: .5pt solid var(--sklearn-color-unfitted-level-3);\n",
       "}\n",
       "\n",
       ".sk-estimator-doc-link.fitted span {\n",
       "  /* fitted */\n",
       "  background: var(--sklearn-color-fitted-level-0);\n",
       "  border: var(--sklearn-color-fitted-level-3);\n",
       "}\n",
       "\n",
       ".sk-estimator-doc-link:hover span {\n",
       "  display: block;\n",
       "}\n",
       "\n",
       "/* \"?\"-specific style due to the `<a>` HTML tag */\n",
       "\n",
       "#sk-container-id-1 a.estimator_doc_link {\n",
       "  float: right;\n",
       "  font-size: 1rem;\n",
       "  line-height: 1em;\n",
       "  font-family: monospace;\n",
       "  background-color: var(--sklearn-color-background);\n",
       "  border-radius: 1rem;\n",
       "  height: 1rem;\n",
       "  width: 1rem;\n",
       "  text-decoration: none;\n",
       "  /* unfitted */\n",
       "  color: var(--sklearn-color-unfitted-level-1);\n",
       "  border: var(--sklearn-color-unfitted-level-1) 1pt solid;\n",
       "}\n",
       "\n",
       "#sk-container-id-1 a.estimator_doc_link.fitted {\n",
       "  /* fitted */\n",
       "  border: var(--sklearn-color-fitted-level-1) 1pt solid;\n",
       "  color: var(--sklearn-color-fitted-level-1);\n",
       "}\n",
       "\n",
       "/* On hover */\n",
       "#sk-container-id-1 a.estimator_doc_link:hover {\n",
       "  /* unfitted */\n",
       "  background-color: var(--sklearn-color-unfitted-level-3);\n",
       "  color: var(--sklearn-color-background);\n",
       "  text-decoration: none;\n",
       "}\n",
       "\n",
       "#sk-container-id-1 a.estimator_doc_link.fitted:hover {\n",
       "  /* fitted */\n",
       "  background-color: var(--sklearn-color-fitted-level-3);\n",
       "}\n",
       "\n",
       ".estimator-table summary {\n",
       "    padding: .5rem;\n",
       "    font-family: monospace;\n",
       "    cursor: pointer;\n",
       "}\n",
       "\n",
       ".estimator-table details[open] {\n",
       "    padding-left: 0.1rem;\n",
       "    padding-right: 0.1rem;\n",
       "    padding-bottom: 0.3rem;\n",
       "}\n",
       "\n",
       ".estimator-table .parameters-table {\n",
       "    margin-left: auto !important;\n",
       "    margin-right: auto !important;\n",
       "}\n",
       "\n",
       ".estimator-table .parameters-table tr:nth-child(odd) {\n",
       "    background-color: #fff;\n",
       "}\n",
       "\n",
       ".estimator-table .parameters-table tr:nth-child(even) {\n",
       "    background-color: #f6f6f6;\n",
       "}\n",
       "\n",
       ".estimator-table .parameters-table tr:hover {\n",
       "    background-color: #e0e0e0;\n",
       "}\n",
       "\n",
       ".estimator-table table td {\n",
       "    border: 1px solid rgba(106, 105, 104, 0.232);\n",
       "}\n",
       "\n",
       ".user-set td {\n",
       "    color:rgb(255, 94, 0);\n",
       "    text-align: left;\n",
       "}\n",
       "\n",
       ".user-set td.value pre {\n",
       "    color:rgb(255, 94, 0) !important;\n",
       "    background-color: transparent !important;\n",
       "}\n",
       "\n",
       ".default td {\n",
       "    color: black;\n",
       "    text-align: left;\n",
       "}\n",
       "\n",
       ".user-set td i,\n",
       ".default td i {\n",
       "    color: black;\n",
       "}\n",
       "\n",
       ".copy-paste-icon {\n",
       "    background-image: url(data:image/svg+xml;base64,PHN2ZyB4bWxucz0iaHR0cDovL3d3dy53My5vcmcvMjAwMC9zdmciIHZpZXdCb3g9IjAgMCA0NDggNTEyIj48IS0tIUZvbnQgQXdlc29tZSBGcmVlIDYuNy4yIGJ5IEBmb250YXdlc29tZSAtIGh0dHBzOi8vZm9udGF3ZXNvbWUuY29tIExpY2Vuc2UgLSBodHRwczovL2ZvbnRhd2Vzb21lLmNvbS9saWNlbnNlL2ZyZWUgQ29weXJpZ2h0IDIwMjUgRm9udGljb25zLCBJbmMuLS0+PHBhdGggZD0iTTIwOCAwTDMzMi4xIDBjMTIuNyAwIDI0LjkgNS4xIDMzLjkgMTQuMWw2Ny45IDY3LjljOSA5IDE0LjEgMjEuMiAxNC4xIDMzLjlMNDQ4IDMzNmMwIDI2LjUtMjEuNSA0OC00OCA0OGwtMTkyIDBjLTI2LjUgMC00OC0yMS41LTQ4LTQ4bDAtMjg4YzAtMjYuNSAyMS41LTQ4IDQ4LTQ4ek00OCAxMjhsODAgMCAwIDY0LTY0IDAgMCAyNTYgMTkyIDAgMC0zMiA2NCAwIDAgNDhjMCAyNi41LTIxLjUgNDgtNDggNDhMNDggNTEyYy0yNi41IDAtNDgtMjEuNS00OC00OEwwIDE3NmMwLTI2LjUgMjEuNS00OCA0OC00OHoiLz48L3N2Zz4=);\n",
       "    background-repeat: no-repeat;\n",
       "    background-size: 14px 14px;\n",
       "    background-position: 0;\n",
       "    display: inline-block;\n",
       "    width: 14px;\n",
       "    height: 14px;\n",
       "    cursor: pointer;\n",
       "}\n",
       "</style><body><div id=\"sk-container-id-1\" class=\"sk-top-container\"><div class=\"sk-text-repr-fallback\"><pre>KerasClassifier(\n",
       "\tmodel=&lt;function create_nn_model at 0x000001B665136710&gt;\n",
       "\tbuild_fn=None\n",
       "\twarm_start=False\n",
       "\trandom_state=42\n",
       "\toptimizer=rmsprop\n",
       "\tloss=None\n",
       "\tmetrics=None\n",
       "\tbatch_size=16\n",
       "\tvalidation_batch_size=None\n",
       "\tverbose=0\n",
       "\tcallbacks=None\n",
       "\tvalidation_split=0.0\n",
       "\tshuffle=True\n",
       "\trun_eagerly=False\n",
       "\tepochs=50\n",
       "\tclass_weight=None\n",
       ")</pre><b>In a Jupyter environment, please rerun this cell to show the HTML representation or trust the notebook. <br />On GitHub, the HTML representation is unable to render, please try loading this page with nbviewer.org.</b></div><div class=\"sk-container\" hidden><div class=\"sk-item\"><div class=\"sk-estimator fitted sk-toggleable\"><input class=\"sk-toggleable__control sk-hidden--visually\" id=\"sk-estimator-id-1\" type=\"checkbox\" checked><label for=\"sk-estimator-id-1\" class=\"sk-toggleable__label fitted sk-toggleable__label-arrow\"><div><div>KerasClassifier</div></div><div><span class=\"sk-estimator-doc-link fitted\">i<span>Fitted</span></span></div></label><div class=\"sk-toggleable__content fitted\" data-param-prefix=\"\">\n",
       "        <div class=\"estimator-table\">\n",
       "            <details>\n",
       "                <summary>Parameters</summary>\n",
       "                <table class=\"parameters-table\">\n",
       "                  <tbody>\n",
       "                    \n",
       "        <tr class=\"user-set\">\n",
       "            <td><i class=\"copy-paste-icon\"\n",
       "                 onclick=\"copyToClipboard('model',\n",
       "                          this.parentElement.nextElementSibling)\"\n",
       "            ></i></td>\n",
       "            <td class=\"param\">model&nbsp;</td>\n",
       "            <td class=\"value\">&lt;function cre...001B665136710&gt;</td>\n",
       "        </tr>\n",
       "    \n",
       "\n",
       "        <tr class=\"default\">\n",
       "            <td><i class=\"copy-paste-icon\"\n",
       "                 onclick=\"copyToClipboard('build_fn',\n",
       "                          this.parentElement.nextElementSibling)\"\n",
       "            ></i></td>\n",
       "            <td class=\"param\">build_fn&nbsp;</td>\n",
       "            <td class=\"value\">None</td>\n",
       "        </tr>\n",
       "    \n",
       "\n",
       "        <tr class=\"default\">\n",
       "            <td><i class=\"copy-paste-icon\"\n",
       "                 onclick=\"copyToClipboard('warm_start',\n",
       "                          this.parentElement.nextElementSibling)\"\n",
       "            ></i></td>\n",
       "            <td class=\"param\">warm_start&nbsp;</td>\n",
       "            <td class=\"value\">False</td>\n",
       "        </tr>\n",
       "    \n",
       "\n",
       "        <tr class=\"user-set\">\n",
       "            <td><i class=\"copy-paste-icon\"\n",
       "                 onclick=\"copyToClipboard('random_state',\n",
       "                          this.parentElement.nextElementSibling)\"\n",
       "            ></i></td>\n",
       "            <td class=\"param\">random_state&nbsp;</td>\n",
       "            <td class=\"value\">42</td>\n",
       "        </tr>\n",
       "    \n",
       "\n",
       "        <tr class=\"default\">\n",
       "            <td><i class=\"copy-paste-icon\"\n",
       "                 onclick=\"copyToClipboard('optimizer',\n",
       "                          this.parentElement.nextElementSibling)\"\n",
       "            ></i></td>\n",
       "            <td class=\"param\">optimizer&nbsp;</td>\n",
       "            <td class=\"value\">&#x27;rmsprop&#x27;</td>\n",
       "        </tr>\n",
       "    \n",
       "\n",
       "        <tr class=\"default\">\n",
       "            <td><i class=\"copy-paste-icon\"\n",
       "                 onclick=\"copyToClipboard('loss',\n",
       "                          this.parentElement.nextElementSibling)\"\n",
       "            ></i></td>\n",
       "            <td class=\"param\">loss&nbsp;</td>\n",
       "            <td class=\"value\">None</td>\n",
       "        </tr>\n",
       "    \n",
       "\n",
       "        <tr class=\"default\">\n",
       "            <td><i class=\"copy-paste-icon\"\n",
       "                 onclick=\"copyToClipboard('metrics',\n",
       "                          this.parentElement.nextElementSibling)\"\n",
       "            ></i></td>\n",
       "            <td class=\"param\">metrics&nbsp;</td>\n",
       "            <td class=\"value\">None</td>\n",
       "        </tr>\n",
       "    \n",
       "\n",
       "        <tr class=\"user-set\">\n",
       "            <td><i class=\"copy-paste-icon\"\n",
       "                 onclick=\"copyToClipboard('batch_size',\n",
       "                          this.parentElement.nextElementSibling)\"\n",
       "            ></i></td>\n",
       "            <td class=\"param\">batch_size&nbsp;</td>\n",
       "            <td class=\"value\">16</td>\n",
       "        </tr>\n",
       "    \n",
       "\n",
       "        <tr class=\"default\">\n",
       "            <td><i class=\"copy-paste-icon\"\n",
       "                 onclick=\"copyToClipboard('validation_batch_size',\n",
       "                          this.parentElement.nextElementSibling)\"\n",
       "            ></i></td>\n",
       "            <td class=\"param\">validation_batch_size&nbsp;</td>\n",
       "            <td class=\"value\">None</td>\n",
       "        </tr>\n",
       "    \n",
       "\n",
       "        <tr class=\"user-set\">\n",
       "            <td><i class=\"copy-paste-icon\"\n",
       "                 onclick=\"copyToClipboard('verbose',\n",
       "                          this.parentElement.nextElementSibling)\"\n",
       "            ></i></td>\n",
       "            <td class=\"param\">verbose&nbsp;</td>\n",
       "            <td class=\"value\">0</td>\n",
       "        </tr>\n",
       "    \n",
       "\n",
       "        <tr class=\"default\">\n",
       "            <td><i class=\"copy-paste-icon\"\n",
       "                 onclick=\"copyToClipboard('callbacks',\n",
       "                          this.parentElement.nextElementSibling)\"\n",
       "            ></i></td>\n",
       "            <td class=\"param\">callbacks&nbsp;</td>\n",
       "            <td class=\"value\">None</td>\n",
       "        </tr>\n",
       "    \n",
       "\n",
       "        <tr class=\"default\">\n",
       "            <td><i class=\"copy-paste-icon\"\n",
       "                 onclick=\"copyToClipboard('validation_split',\n",
       "                          this.parentElement.nextElementSibling)\"\n",
       "            ></i></td>\n",
       "            <td class=\"param\">validation_split&nbsp;</td>\n",
       "            <td class=\"value\">0.0</td>\n",
       "        </tr>\n",
       "    \n",
       "\n",
       "        <tr class=\"default\">\n",
       "            <td><i class=\"copy-paste-icon\"\n",
       "                 onclick=\"copyToClipboard('shuffle',\n",
       "                          this.parentElement.nextElementSibling)\"\n",
       "            ></i></td>\n",
       "            <td class=\"param\">shuffle&nbsp;</td>\n",
       "            <td class=\"value\">True</td>\n",
       "        </tr>\n",
       "    \n",
       "\n",
       "        <tr class=\"default\">\n",
       "            <td><i class=\"copy-paste-icon\"\n",
       "                 onclick=\"copyToClipboard('run_eagerly',\n",
       "                          this.parentElement.nextElementSibling)\"\n",
       "            ></i></td>\n",
       "            <td class=\"param\">run_eagerly&nbsp;</td>\n",
       "            <td class=\"value\">False</td>\n",
       "        </tr>\n",
       "    \n",
       "\n",
       "        <tr class=\"user-set\">\n",
       "            <td><i class=\"copy-paste-icon\"\n",
       "                 onclick=\"copyToClipboard('epochs',\n",
       "                          this.parentElement.nextElementSibling)\"\n",
       "            ></i></td>\n",
       "            <td class=\"param\">epochs&nbsp;</td>\n",
       "            <td class=\"value\">50</td>\n",
       "        </tr>\n",
       "    \n",
       "\n",
       "        <tr class=\"default\">\n",
       "            <td><i class=\"copy-paste-icon\"\n",
       "                 onclick=\"copyToClipboard('class_weight',\n",
       "                          this.parentElement.nextElementSibling)\"\n",
       "            ></i></td>\n",
       "            <td class=\"param\">class_weight&nbsp;</td>\n",
       "            <td class=\"value\">None</td>\n",
       "        </tr>\n",
       "    \n",
       "                  </tbody>\n",
       "                </table>\n",
       "            </details>\n",
       "        </div>\n",
       "    </div></div></div></div></div><script>function copyToClipboard(text, element) {\n",
       "    // Get the parameter prefix from the closest toggleable content\n",
       "    const toggleableContent = element.closest('.sk-toggleable__content');\n",
       "    const paramPrefix = toggleableContent ? toggleableContent.dataset.paramPrefix : '';\n",
       "    const fullParamName = paramPrefix ? `${paramPrefix}${text}` : text;\n",
       "\n",
       "    const originalStyle = element.style;\n",
       "    const computedStyle = window.getComputedStyle(element);\n",
       "    const originalWidth = computedStyle.width;\n",
       "    const originalHTML = element.innerHTML.replace('Copied!', '');\n",
       "\n",
       "    navigator.clipboard.writeText(fullParamName)\n",
       "        .then(() => {\n",
       "            element.style.width = originalWidth;\n",
       "            element.style.color = 'green';\n",
       "            element.innerHTML = \"Copied!\";\n",
       "\n",
       "            setTimeout(() => {\n",
       "                element.innerHTML = originalHTML;\n",
       "                element.style = originalStyle;\n",
       "            }, 2000);\n",
       "        })\n",
       "        .catch(err => {\n",
       "            console.error('Failed to copy:', err);\n",
       "            element.style.color = 'red';\n",
       "            element.innerHTML = \"Failed!\";\n",
       "            setTimeout(() => {\n",
       "                element.innerHTML = originalHTML;\n",
       "                element.style = originalStyle;\n",
       "            }, 2000);\n",
       "        });\n",
       "    return false;\n",
       "}\n",
       "\n",
       "document.querySelectorAll('.fa-regular.fa-copy').forEach(function(element) {\n",
       "    const toggleableContent = element.closest('.sk-toggleable__content');\n",
       "    const paramPrefix = toggleableContent ? toggleableContent.dataset.paramPrefix : '';\n",
       "    const paramName = element.parentElement.nextElementSibling.textContent.trim();\n",
       "    const fullParamName = paramPrefix ? `${paramPrefix}${paramName}` : paramName;\n",
       "\n",
       "    element.setAttribute('title', fullParamName);\n",
       "});\n",
       "</script></body>"
      ],
      "text/plain": [
       "KerasClassifier(\n",
       "\tmodel=<function create_nn_model at 0x000001B665136710>\n",
       "\tbuild_fn=None\n",
       "\twarm_start=False\n",
       "\trandom_state=42\n",
       "\toptimizer=rmsprop\n",
       "\tloss=None\n",
       "\tmetrics=None\n",
       "\tbatch_size=16\n",
       "\tvalidation_batch_size=None\n",
       "\tverbose=0\n",
       "\tcallbacks=None\n",
       "\tvalidation_split=0.0\n",
       "\tshuffle=True\n",
       "\trun_eagerly=False\n",
       "\tepochs=50\n",
       "\tclass_weight=None\n",
       ")"
      ]
     },
     "metadata": {},
     "output_type": "display_data"
    }
   ],
   "source": [
    "# wrapper for the NN model\n",
    "nn = KerasClassifier(model=create_nn_model, epochs=50, batch_size=16, verbose=0, random_state=42)\n",
    "\n",
    "# train model and identify best estimator\n",
    "nn.fit(x_train_scale, y_train)"
   ]
  },
  {
   "cell_type": "code",
   "execution_count": null,
   "id": "accb3cd4",
   "metadata": {},
   "outputs": [],
   "source": [
    "models['Neural Network'] = nn\n",
    "models['Neural Network scaler'] = nn_scaler"
   ]
  }
 ],
 "metadata": {
  "kernelspec": {
   "display_name": "Python 3",
   "language": "python",
   "name": "python3"
  },
  "language_info": {
   "codemirror_mode": {
    "name": "ipython",
    "version": 3
   },
   "file_extension": ".py",
   "mimetype": "text/x-python",
   "name": "python",
   "nbconvert_exporter": "python",
   "pygments_lexer": "ipython3",
   "version": "3.10.0"
  }
 },
 "nbformat": 4,
 "nbformat_minor": 5
}
