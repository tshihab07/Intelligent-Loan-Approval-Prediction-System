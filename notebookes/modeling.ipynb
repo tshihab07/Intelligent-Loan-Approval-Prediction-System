{
 "cells": [
  {
   "cell_type": "markdown",
   "id": "8c4cac30",
   "metadata": {},
   "source": [
    "# Intelligent Loan Approval Prediction System ML Models\n",
    "The system is designed to predict the likelihood of loan approval by analyzing historical data containing applicants’ financial and personal attributes. By employing advanced ML algorithms, the model can capture complex patterns and relationships between features, enabling more informed and objective predictions.\n",
    "\n",
    "In this project, multiple machine learning models are explored and compared to identify the most effective approach for predicting loan approvals. The selected models include:\n",
    "\n",
    "- Logistic Regression\n",
    "- Random Forest\n",
    "- XGBoost\n",
    "- LightGBM\n",
    "- Support Vector Machine (SVM)\n",
    "- Neural Network\n",
    "\n",
    "By training and evaluating these models on historical loan datasets, the system aims to provide a reliable, data-driven mechanism for loan approval prediction. This approach not only helps financial institutions minimize default risk but also ensures a fair and consistent evaluation process for applicants."
   ]
  },
  {
   "cell_type": "markdown",
   "id": "f288406f",
   "metadata": {},
   "source": [
    "# Import Libraries"
   ]
  },
  {
   "cell_type": "code",
   "execution_count": 1,
   "id": "109ca265",
   "metadata": {},
   "outputs": [
    {
     "name": "stderr",
     "output_type": "stream",
     "text": [
      "c:\\Users\\Tshihab07\\AppData\\Local\\Programs\\Python\\Python310\\lib\\site-packages\\tqdm\\auto.py:21: TqdmWarning: IProgress not found. Please update jupyter and ipywidgets. See https://ipywidgets.readthedocs.io/en/stable/user_install.html\n",
      "  from .autonotebook import tqdm as notebook_tqdm\n"
     ]
    }
   ],
   "source": [
    "# records and calculations\n",
    "import pandas as pd\n",
    "import numpy as np\n",
    "\n",
    "# visualizations\n",
    "import matplotlib.pyplot as plt\n",
    "import seaborn as sns\n",
    "\n",
    "# core ML\n",
    "from sklearn.model_selection import train_test_split, StratifiedKFold, cross_val_score, GridSearchCV\n",
    "from sklearn.linear_model import LogisticRegression\n",
    "from sklearn.ensemble import RandomForestClassifier\n",
    "from sklearn.svm import SVC\n",
    "from sklearn.metrics import roc_auc_score, average_precision_score, f1_score, precision_recall_curve, confusion_matrix\n",
    "from sklearn.metrics import classification_report, roc_curve, auc, accuracy_score\n",
    "from sklearn.preprocessing import StandardScaler\n",
    "from sklearn.calibration import calibration_curve\n",
    "\n",
    "# gradient boosting model\n",
    "import lightgbm as lgb\n",
    "import xgboost as xgb\n",
    "\n",
    "# neural network\n",
    "import tensorflow as tf\n",
    "from tensorflow.keras.models import Sequential\n",
    "from tensorflow.keras.layers import Dense, Dropout\n",
    "from tensorflow.keras.optimizers import Adam\n",
    "from scikeras.wrappers import KerasClassifier\n",
    "\n",
    "# optimization\n",
    "import optuna\n",
    "from skopt import BayesSearchCV\n",
    "from skopt.space import Real, Integer, Categorical\n",
    "\n",
    "# Interpretability\n",
    "import shap\n",
    "\n",
    "# Fairness (optional)\n",
    "from fairlearn.metrics import demographic_parity_difference, equalized_odds_difference\n",
    "\n",
    "# Persistence\n",
    "import joblib\n",
    "import pickle\n",
    "\n",
    "#  Set seeds for reproducibility\n",
    "np.random.seed(42)\n",
    "tf.random.set_seed(42)\n",
    "\n",
    "# avoid minor warnings\n",
    "import warnings\n",
    "warnings.filterwarnings('ignore')\n",
    "\n",
    "# read file path\n",
    "from pathlib import Path"
   ]
  },
  {
   "cell_type": "markdown",
   "id": "83e0cb08",
   "metadata": {},
   "source": [
    "# Load and Prepare Datset for Modeling "
   ]
  },
  {
   "cell_type": "markdown",
   "id": "68790b9f",
   "metadata": {},
   "source": [
    "## Load Dataset"
   ]
  },
  {
   "cell_type": "code",
   "execution_count": 2,
   "id": "f56f9a17",
   "metadata": {},
   "outputs": [],
   "source": [
    "# reading file path\n",
    "file = Path(r\"../data/CleanedLoanData.csv\")\n",
    "\n",
    "# reading csv file\n",
    "df = pd.read_csv(file)"
   ]
  },
  {
   "cell_type": "code",
   "execution_count": 3,
   "id": "6e3eecd1",
   "metadata": {},
   "outputs": [
    {
     "data": {
      "text/html": [
       "<div>\n",
       "<style scoped>\n",
       "    .dataframe tbody tr th:only-of-type {\n",
       "        vertical-align: middle;\n",
       "    }\n",
       "\n",
       "    .dataframe tbody tr th {\n",
       "        vertical-align: top;\n",
       "    }\n",
       "\n",
       "    .dataframe thead th {\n",
       "        text-align: right;\n",
       "    }\n",
       "</style>\n",
       "<table border=\"1\" class=\"dataframe\">\n",
       "  <thead>\n",
       "    <tr style=\"text-align: right;\">\n",
       "      <th></th>\n",
       "      <th>Dependents</th>\n",
       "      <th>LoanAmount</th>\n",
       "      <th>CreditHistory</th>\n",
       "      <th>LoanStatus</th>\n",
       "      <th>TotalIncome</th>\n",
       "      <th>IncomeLoanRatio</th>\n",
       "      <th>LoanTermYears</th>\n",
       "      <th>Has_CoApplicantIncome</th>\n",
       "      <th>Gender_Male</th>\n",
       "      <th>Married_Yes</th>\n",
       "      <th>Education_Not Graduate</th>\n",
       "      <th>PropertyArea_Semiurban</th>\n",
       "      <th>PropertyArea_Urban</th>\n",
       "      <th>SelfEmployed_Yes</th>\n",
       "    </tr>\n",
       "  </thead>\n",
       "  <tbody>\n",
       "    <tr>\n",
       "      <th>0</th>\n",
       "      <td>0</td>\n",
       "      <td>146.369492</td>\n",
       "      <td>1</td>\n",
       "      <td>1</td>\n",
       "      <td>5849.0</td>\n",
       "      <td>25.024704</td>\n",
       "      <td>30.0</td>\n",
       "      <td>0</td>\n",
       "      <td>True</td>\n",
       "      <td>False</td>\n",
       "      <td>False</td>\n",
       "      <td>False</td>\n",
       "      <td>True</td>\n",
       "      <td>False</td>\n",
       "    </tr>\n",
       "    <tr>\n",
       "      <th>1</th>\n",
       "      <td>1</td>\n",
       "      <td>128.000000</td>\n",
       "      <td>1</td>\n",
       "      <td>0</td>\n",
       "      <td>6091.0</td>\n",
       "      <td>21.014612</td>\n",
       "      <td>30.0</td>\n",
       "      <td>1</td>\n",
       "      <td>True</td>\n",
       "      <td>True</td>\n",
       "      <td>False</td>\n",
       "      <td>False</td>\n",
       "      <td>False</td>\n",
       "      <td>False</td>\n",
       "    </tr>\n",
       "    <tr>\n",
       "      <th>2</th>\n",
       "      <td>0</td>\n",
       "      <td>66.000000</td>\n",
       "      <td>1</td>\n",
       "      <td>1</td>\n",
       "      <td>3000.0</td>\n",
       "      <td>22.000000</td>\n",
       "      <td>30.0</td>\n",
       "      <td>0</td>\n",
       "      <td>True</td>\n",
       "      <td>True</td>\n",
       "      <td>False</td>\n",
       "      <td>False</td>\n",
       "      <td>True</td>\n",
       "      <td>True</td>\n",
       "    </tr>\n",
       "    <tr>\n",
       "      <th>3</th>\n",
       "      <td>0</td>\n",
       "      <td>120.000000</td>\n",
       "      <td>1</td>\n",
       "      <td>1</td>\n",
       "      <td>4941.0</td>\n",
       "      <td>24.286582</td>\n",
       "      <td>30.0</td>\n",
       "      <td>1</td>\n",
       "      <td>True</td>\n",
       "      <td>True</td>\n",
       "      <td>True</td>\n",
       "      <td>False</td>\n",
       "      <td>True</td>\n",
       "      <td>False</td>\n",
       "    </tr>\n",
       "    <tr>\n",
       "      <th>4</th>\n",
       "      <td>0</td>\n",
       "      <td>141.000000</td>\n",
       "      <td>1</td>\n",
       "      <td>1</td>\n",
       "      <td>6000.0</td>\n",
       "      <td>23.500000</td>\n",
       "      <td>30.0</td>\n",
       "      <td>0</td>\n",
       "      <td>True</td>\n",
       "      <td>False</td>\n",
       "      <td>False</td>\n",
       "      <td>False</td>\n",
       "      <td>True</td>\n",
       "      <td>False</td>\n",
       "    </tr>\n",
       "  </tbody>\n",
       "</table>\n",
       "</div>"
      ],
      "text/plain": [
       "   Dependents  LoanAmount  CreditHistory  LoanStatus  TotalIncome  \\\n",
       "0           0  146.369492              1           1       5849.0   \n",
       "1           1  128.000000              1           0       6091.0   \n",
       "2           0   66.000000              1           1       3000.0   \n",
       "3           0  120.000000              1           1       4941.0   \n",
       "4           0  141.000000              1           1       6000.0   \n",
       "\n",
       "   IncomeLoanRatio  LoanTermYears  Has_CoApplicantIncome  Gender_Male  \\\n",
       "0        25.024704           30.0                      0         True   \n",
       "1        21.014612           30.0                      1         True   \n",
       "2        22.000000           30.0                      0         True   \n",
       "3        24.286582           30.0                      1         True   \n",
       "4        23.500000           30.0                      0         True   \n",
       "\n",
       "   Married_Yes  Education_Not Graduate  PropertyArea_Semiurban  \\\n",
       "0        False                   False                   False   \n",
       "1         True                   False                   False   \n",
       "2         True                   False                   False   \n",
       "3         True                    True                   False   \n",
       "4        False                   False                   False   \n",
       "\n",
       "   PropertyArea_Urban  SelfEmployed_Yes  \n",
       "0                True             False  \n",
       "1               False             False  \n",
       "2                True              True  \n",
       "3                True             False  \n",
       "4                True             False  "
      ]
     },
     "execution_count": 3,
     "metadata": {},
     "output_type": "execute_result"
    }
   ],
   "source": [
    "df.head()"
   ]
  },
  {
   "cell_type": "markdown",
   "id": "d2334415",
   "metadata": {},
   "source": [
    "## Split the dataset into input features (x) and target variable (y)"
   ]
  },
  {
   "cell_type": "code",
   "execution_count": 4,
   "id": "43a068a6",
   "metadata": {},
   "outputs": [],
   "source": [
    "# input features\n",
    "x = df.drop(columns=['LoanStatus'],  axis=1)\n",
    "\n",
    "# target variable\n",
    "y = df['LoanStatus']"
   ]
  },
  {
   "cell_type": "markdown",
   "id": "f48e7e05",
   "metadata": {},
   "source": [
    "## split dataset into training and test and prepare for other models"
   ]
  },
  {
   "cell_type": "code",
   "execution_count": 5,
   "id": "cf061776",
   "metadata": {},
   "outputs": [],
   "source": [
    "x_train_full, x_test, y_train_full, y_test = train_test_split(x, y, test_size=0.2, stratify=y, random_state=42)\n",
    "cv = StratifiedKFold(n_splits=5, shuffle=True, random_state=42)\n",
    "scoring_metric = 'roc_auc'"
   ]
  },
  {
   "cell_type": "code",
   "execution_count": 6,
   "id": "25095885",
   "metadata": {},
   "outputs": [],
   "source": [
    "# Initialize storages\n",
    "all_results = {}\n",
    "model_objects = {}\n",
    "probability_predictions = {}\n",
    "test_predictions = {}"
   ]
  },
  {
   "cell_type": "markdown",
   "id": "426100bb",
   "metadata": {},
   "source": [
    "# Advanced Modeling"
   ]
  },
  {
   "cell_type": "markdown",
   "id": "9c83f0c6",
   "metadata": {},
   "source": [
    "# Logistic Regression"
   ]
  },
  {
   "cell_type": "markdown",
   "id": "cb1bcab7",
   "metadata": {},
   "source": [
    "## Hyperparameter Tuning"
   ]
  },
  {
   "cell_type": "code",
   "execution_count": 7,
   "id": "520498cd",
   "metadata": {},
   "outputs": [],
   "source": [
    "# hyperparameter tuning for logistic regression\n",
    "lr_param_grid = {\n",
    "    'C' : [0.1, 1, 10, 100],\n",
    "    'penalty': ['l2', 'l1'],\n",
    "    'solver': ['liblinear'],\n",
    "    'class_weight': ['balanced']\n",
    "}"
   ]
  },
  {
   "cell_type": "markdown",
   "id": "b103638f",
   "metadata": {},
   "source": [
    "## GridSearch Optimization"
   ]
  },
  {
   "cell_type": "code",
   "execution_count": 8,
   "id": "c5585755",
   "metadata": {},
   "outputs": [],
   "source": [
    "# create empty model \n",
    "lr = LogisticRegression(random_state=42, max_iter=1000)\n",
    "\n",
    "# GridSearch Optimization\n",
    "lr_grid = GridSearchCV(\n",
    "    lr,\n",
    "    lr_param_grid,\n",
    "    cv=cv,\n",
    "    scoring=scoring_metric,\n",
    "    n_jobs=-1\n",
    ")"
   ]
  },
  {
   "cell_type": "markdown",
   "id": "02ba52ea",
   "metadata": {},
   "source": [
    "## Train model with Hyperparameter Optimization"
   ]
  },
  {
   "cell_type": "code",
   "execution_count": 9,
   "id": "67fb1085",
   "metadata": {},
   "outputs": [],
   "source": [
    "lr_grid.fit(x_train_full, y_train_full)\n",
    "model_objects['Logistic Regression'] = lr_grid.best_estimator_"
   ]
  },
  {
   "cell_type": "code",
   "execution_count": null,
   "id": "289db86e",
   "metadata": {},
   "outputs": [],
   "source": []
  }
 ],
 "metadata": {
  "kernelspec": {
   "display_name": "Python 3",
   "language": "python",
   "name": "python3"
  },
  "language_info": {
   "codemirror_mode": {
    "name": "ipython",
    "version": 3
   },
   "file_extension": ".py",
   "mimetype": "text/x-python",
   "name": "python",
   "nbconvert_exporter": "python",
   "pygments_lexer": "ipython3",
   "version": "3.10.0"
  }
 },
 "nbformat": 4,
 "nbformat_minor": 5
}
