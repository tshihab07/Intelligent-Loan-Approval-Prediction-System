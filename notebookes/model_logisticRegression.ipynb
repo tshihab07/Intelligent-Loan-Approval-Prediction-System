{
 "cells": [
  {
   "cell_type": "markdown",
   "id": "95541c7c",
   "metadata": {},
   "source": [
    "# Logistic Regression Model Development with Hyperparameter Optimization"
   ]
  },
  {
   "cell_type": "markdown",
   "id": "5e8e1e39",
   "metadata": {},
   "source": [
    "## Import Libraries"
   ]
  },
  {
   "cell_type": "code",
   "execution_count": 1,
   "id": "866189e2",
   "metadata": {},
   "outputs": [],
   "source": [
    "# records and calculations\n",
    "import pandas as pd\n",
    "import numpy as np\n",
    "\n",
    "# visualizations\n",
    "import matplotlib.pyplot as plt\n",
    "import seaborn as sns\n",
    "\n",
    "# core ML\n",
    "from sklearn.model_selection import cross_val_score, GridSearchCV\n",
    "from sklearn.linear_model import LogisticRegression\n",
    "from sklearn.metrics import roc_auc_score, average_precision_score, classification_report, precision_recall_curve, confusion_matrix\n",
    "from sklearn.metrics import roc_curve, auc, accuracy_score, f1_score, precision_score, recall_score\n",
    "from sklearn.preprocessing import StandardScaler\n",
    "\n",
    "# Persistence\n",
    "import joblib\n",
    "import pickle\n",
    "\n",
    "# avoid minor warnings\n",
    "import warnings\n",
    "warnings.filterwarnings('ignore')\n",
    "\n",
    "# read file path\n",
    "from pathlib import Path"
   ]
  },
  {
   "cell_type": "markdown",
   "id": "bc83f88d",
   "metadata": {},
   "source": [
    "## Load Dataset and Saved Artifacts"
   ]
  },
  {
   "cell_type": "code",
   "execution_count": 2,
   "id": "ea81f923",
   "metadata": {},
   "outputs": [],
   "source": [
    "# dataset path\n",
    "file = Path(r\"../data/CleanedLoanData.csv\")\n",
    "\n",
    "# artifacts path\n",
    "artifacts_dir = Path(r\"../artifacts/feature-selection\")\n",
    "\n",
    "# model performance path\n",
    "model_performance_dir = Path(r\"../artifacts/model-performance\")\n",
    "\n",
    "# models path\n",
    "model_dir = Path(r\"../artifacts/models\")\n"
   ]
  },
  {
   "cell_type": "code",
   "execution_count": 3,
   "id": "4dd0fad9",
   "metadata": {},
   "outputs": [],
   "source": [
    "# laod dataset\n",
    "df = pd.read_csv(file)"
   ]
  },
  {
   "cell_type": "code",
   "execution_count": 4,
   "id": "0caa1724",
   "metadata": {},
   "outputs": [],
   "source": [
    "# feature-target separation\n",
    "x = df.drop(columns=['LoanStatus'])\n",
    "y = df['LoanStatus']"
   ]
  },
  {
   "cell_type": "code",
   "execution_count": 5,
   "id": "5a60d668",
   "metadata": {},
   "outputs": [],
   "source": [
    "# load artifacts\n",
    "x_train = joblib.load(artifacts_dir / \"x_train.pkl\")\n",
    "x_test = joblib.load(artifacts_dir / \"x_test.pkl\")\n",
    "y_train = joblib.load(artifacts_dir / \"y_train.pkl\")\n",
    "y_test = joblib.load(artifacts_dir / \"y_test.pkl\")\n",
    "cv = joblib.load(artifacts_dir / \"cv.pkl\")\n",
    "\n",
    "# configure socring metrics\n",
    "scoring_metrics = 'roc_auc'"
   ]
  },
  {
   "cell_type": "markdown",
   "id": "4c33fd99",
   "metadata": {},
   "source": [
    "## Model Training with Hyperparameter Optimization"
   ]
  },
  {
   "cell_type": "code",
   "execution_count": 6,
   "id": "52a32f3c",
   "metadata": {},
   "outputs": [],
   "source": [
    "# hyperparameter grid\n",
    "lr_param_grid = {\n",
    "    'C' : [0.1, 1, 10, 100],\n",
    "    'penalty': ['l2', 'l1'],\n",
    "    'solver': ['liblinear'],\n",
    "    'class_weight': ['balanced']\n",
    "}"
   ]
  },
  {
   "cell_type": "code",
   "execution_count": 7,
   "id": "38922168",
   "metadata": {},
   "outputs": [],
   "source": [
    "# Initialize model\n",
    "lr = LogisticRegression(random_state=42, max_iter=1000)\n",
    "\n",
    "# GridSearch Optimization\n",
    "lr_grid = GridSearchCV(\n",
    "    lr,\n",
    "    lr_param_grid,\n",
    "    cv=cv,\n",
    "    scoring=scoring_metrics,\n",
    "    n_jobs=-1\n",
    ")"
   ]
  },
  {
   "cell_type": "code",
   "execution_count": 8,
   "id": "f28f1207",
   "metadata": {},
   "outputs": [],
   "source": [
    "# train model and identify best estimator\n",
    "lr_grid.fit(x_train, y_train)\n",
    "\n",
    "best_model = lr_grid.best_estimator_"
   ]
  },
  {
   "cell_type": "markdown",
   "id": "45e425fd",
   "metadata": {},
   "source": [
    "## Apply Model to Make Prediction and Get Probabilities"
   ]
  },
  {
   "cell_type": "code",
   "execution_count": 9,
   "id": "eb2b8be4",
   "metadata": {},
   "outputs": [],
   "source": [
    "# make prediction on training and test set\n",
    "train_pred = best_model.predict(x_train)\n",
    "test_pred = best_model.predict(x_test)"
   ]
  },
  {
   "cell_type": "code",
   "execution_count": 10,
   "id": "8baf8a64",
   "metadata": {},
   "outputs": [],
   "source": [
    "# get predicted probabilities\n",
    "train_proba = best_model.predict_proba(x_train)[:, 1]\n",
    "test_proba = best_model.predict_proba(x_test)[:, 1]"
   ]
  },
  {
   "cell_type": "markdown",
   "id": "de8cf5da",
   "metadata": {},
   "source": [
    "## Evaluating Model Performance"
   ]
  },
  {
   "cell_type": "code",
   "execution_count": 11,
   "id": "608a605c",
   "metadata": {},
   "outputs": [],
   "source": [
    "# Training Metrics\n",
    "train_auc_roc = roc_auc_score(y_train, train_proba)             # ROC-AUC score\n",
    "train_auc_pr = average_precision_score(y_train, train_proba)    # average precision\n",
    "train_acc = accuracy_score(y_train, train_pred)                 # accuracy score\n",
    "train_precision = precision_score(y_train, train_pred)          # precision score\n",
    "train_recall = recall_score(y_train, train_pred)                # recall score\n",
    "train_f1 = f1_score(y_train, train_pred)                        # f1 score"
   ]
  },
  {
   "cell_type": "code",
   "execution_count": 12,
   "id": "5bcf841b",
   "metadata": {},
   "outputs": [],
   "source": [
    "# Test Metrics\n",
    "test_auc_roc = roc_auc_score(y_test, test_proba)             # ROC-AUC score\n",
    "test_auc_pr = average_precision_score(y_test, test_proba)    # average precision\n",
    "test_acc = accuracy_score(y_test, test_pred)                 # accuracy score\n",
    "test_precision = precision_score(y_test, test_pred)          # precision score\n",
    "test_recall = recall_score(y_test, test_pred)                # recall score\n",
    "test_f1 = f1_score(y_test, test_pred)                        # f1 score"
   ]
  },
  {
   "cell_type": "markdown",
   "id": "7a7484be",
   "metadata": {},
   "source": [
    "### Performance Report for Training and Test Set"
   ]
  },
  {
   "cell_type": "code",
   "execution_count": 13,
   "id": "3312e885",
   "metadata": {},
   "outputs": [
    {
     "name": "stdout",
     "output_type": "stream",
     "text": [
      "============= Performance on Training Set =============\n",
      "              precision    recall  f1-score   support\n",
      "\n",
      "           0       0.64      0.56      0.60       153\n",
      "           1       0.81      0.85      0.83       335\n",
      "\n",
      "    accuracy                           0.76       488\n",
      "   macro avg       0.72      0.71      0.71       488\n",
      "weighted avg       0.76      0.76      0.76       488\n",
      "\n"
     ]
    }
   ],
   "source": [
    "# classification report for train set\n",
    "print(\"=== Performance on Training Set ===\".center(55, '='))\n",
    "train_report = classification_report(y_train, train_pred)\n",
    "print(train_report)\n"
   ]
  },
  {
   "cell_type": "code",
   "execution_count": 14,
   "id": "db49dbb4",
   "metadata": {},
   "outputs": [
    {
     "name": "stdout",
     "output_type": "stream",
     "text": [
      "=============== Performance on Test Set ===============\n",
      "              precision    recall  f1-score   support\n",
      "\n",
      "           0       0.71      0.74      0.72        39\n",
      "           1       0.88      0.86      0.87        84\n",
      "\n",
      "    accuracy                           0.82       123\n",
      "   macro avg       0.79      0.80      0.80       123\n",
      "weighted avg       0.82      0.82      0.82       123\n",
      "\n"
     ]
    }
   ],
   "source": [
    "# classification report for test set\n",
    "print(\"=== Performance on Test Set ===\".center(55, '='))\n",
    "test_report = classification_report(y_test, test_pred)\n",
    "print(test_report)"
   ]
  },
  {
   "cell_type": "markdown",
   "id": "b6491dac",
   "metadata": {},
   "source": [
    "### Performance Metrics"
   ]
  },
  {
   "cell_type": "code",
   "execution_count": 15,
   "id": "0b88d22a",
   "metadata": {},
   "outputs": [],
   "source": [
    "# model status & gap generalization\n",
    "model_status = 'Good' if test_acc > 0.85 else 'Fair' if test_acc > 0.75 else 'Needs Improvement'\n",
    "generalization = 'Overfitting' if train_acc - test_acc > 0.05 else 'Best Fit'\n",
    "\n",
    "# performance table\n",
    "performance_df = pd.DataFrame({\n",
    "    'Metric': [\n",
    "        'AUC-ROC',\n",
    "        'AUC-PR',\n",
    "        'Precision',\n",
    "        'Recall',\n",
    "        'F1-Score',\n",
    "        'Accuracy',\n",
    "        'Generalization',\n",
    "        'Model Status'\n",
    "    ],\n",
    "    'Training': [\n",
    "        f\"{train_auc_roc:.3f}\",\n",
    "        f\"{train_auc_pr:.3f}\",\n",
    "        f\"{train_precision:.3f}\",\n",
    "        f\"{train_recall:.3f}\",\n",
    "        f\"{train_f1:.3f}\",\n",
    "        f\"{train_acc:.3f}\",\n",
    "        '-',\n",
    "        '-'\n",
    "    ],\n",
    "    'Test': [\n",
    "        f\"{test_auc_roc:.3f}\",\n",
    "        f\"{test_auc_pr:.3f}\",\n",
    "        f\"{test_precision:.3f}\",\n",
    "        f\"{test_recall:.3f}\",\n",
    "        f\"{test_f1:.3f}\",\n",
    "        f\"{test_acc:.3f}\",\n",
    "        '-',\n",
    "        model_status\n",
    "    ],\n",
    "    'Gap/Generalization': [\n",
    "        f\"{abs(train_auc_roc - test_auc_roc):.3f}\",\n",
    "        f\"{abs(train_auc_pr - test_auc_pr):.3f}\",\n",
    "        f\"{abs(train_precision - test_precision):.3f}\",\n",
    "        f\"{abs(train_recall - test_recall):.3f}\",\n",
    "        f\"{abs(train_f1 - test_f1):.3f}\",\n",
    "        f\"{abs(train_acc - test_acc):.3f}\",\n",
    "        generalization,\n",
    "        '-'\n",
    "    ]\n",
    "})"
   ]
  },
  {
   "cell_type": "code",
   "execution_count": 16,
   "id": "b88118fb",
   "metadata": {},
   "outputs": [
    {
     "name": "stdout",
     "output_type": "stream",
     "text": [
      "===== Logistic Regression Performance Metrics ======\n"
     ]
    },
    {
     "data": {
      "text/html": [
       "<div>\n",
       "<style scoped>\n",
       "    .dataframe tbody tr th:only-of-type {\n",
       "        vertical-align: middle;\n",
       "    }\n",
       "\n",
       "    .dataframe tbody tr th {\n",
       "        vertical-align: top;\n",
       "    }\n",
       "\n",
       "    .dataframe thead th {\n",
       "        text-align: right;\n",
       "    }\n",
       "</style>\n",
       "<table border=\"1\" class=\"dataframe\">\n",
       "  <thead>\n",
       "    <tr style=\"text-align: right;\">\n",
       "      <th></th>\n",
       "      <th>Metric</th>\n",
       "      <th>Training</th>\n",
       "      <th>Test</th>\n",
       "      <th>Gap/Generalization</th>\n",
       "    </tr>\n",
       "  </thead>\n",
       "  <tbody>\n",
       "    <tr>\n",
       "      <th>0</th>\n",
       "      <td>AUC-ROC</td>\n",
       "      <td>0.777</td>\n",
       "      <td>0.879</td>\n",
       "      <td>0.102</td>\n",
       "    </tr>\n",
       "    <tr>\n",
       "      <th>1</th>\n",
       "      <td>AUC-PR</td>\n",
       "      <td>0.858</td>\n",
       "      <td>0.923</td>\n",
       "      <td>0.065</td>\n",
       "    </tr>\n",
       "    <tr>\n",
       "      <th>2</th>\n",
       "      <td>Precision</td>\n",
       "      <td>0.810</td>\n",
       "      <td>0.878</td>\n",
       "      <td>0.068</td>\n",
       "    </tr>\n",
       "    <tr>\n",
       "      <th>3</th>\n",
       "      <td>Recall</td>\n",
       "      <td>0.854</td>\n",
       "      <td>0.857</td>\n",
       "      <td>0.003</td>\n",
       "    </tr>\n",
       "    <tr>\n",
       "      <th>4</th>\n",
       "      <td>F1-Score</td>\n",
       "      <td>0.831</td>\n",
       "      <td>0.867</td>\n",
       "      <td>0.036</td>\n",
       "    </tr>\n",
       "    <tr>\n",
       "      <th>5</th>\n",
       "      <td>Accuracy</td>\n",
       "      <td>0.762</td>\n",
       "      <td>0.821</td>\n",
       "      <td>0.059</td>\n",
       "    </tr>\n",
       "    <tr>\n",
       "      <th>6</th>\n",
       "      <td>Generalization</td>\n",
       "      <td>-</td>\n",
       "      <td>-</td>\n",
       "      <td>Best Fit</td>\n",
       "    </tr>\n",
       "    <tr>\n",
       "      <th>7</th>\n",
       "      <td>Model Status</td>\n",
       "      <td>-</td>\n",
       "      <td>Fair</td>\n",
       "      <td>-</td>\n",
       "    </tr>\n",
       "  </tbody>\n",
       "</table>\n",
       "</div>"
      ],
      "text/plain": [
       "           Metric Training   Test Gap/Generalization\n",
       "0         AUC-ROC    0.777  0.879              0.102\n",
       "1          AUC-PR    0.858  0.923              0.065\n",
       "2       Precision    0.810  0.878              0.068\n",
       "3          Recall    0.854  0.857              0.003\n",
       "4        F1-Score    0.831  0.867              0.036\n",
       "5        Accuracy    0.762  0.821              0.059\n",
       "6  Generalization        -      -           Best Fit\n",
       "7    Model Status        -   Fair                  -"
      ]
     },
     "execution_count": 16,
     "metadata": {},
     "output_type": "execute_result"
    }
   ],
   "source": [
    "# performance table\n",
    "print(\"=== Logistic Regression Performance Metrics ===\".center(52, '='))\n",
    "performance_df"
   ]
  },
  {
   "cell_type": "code",
   "execution_count": 17,
   "id": "15f497f4",
   "metadata": {},
   "outputs": [
    {
     "name": "stdout",
     "output_type": "stream",
     "text": [
      "=== Metrics Summary ===\n",
      "Training Accuracy: 0.7623\n",
      "Test Accuracy: 0.8211\n",
      "Accuracy Gap: 0.0588 (Best Fit)\n",
      "Model Performance: Fair\n"
     ]
    }
   ],
   "source": [
    "print(\"=== Metrics Summary ===\")\n",
    "print(f\"Training Accuracy: {train_acc:.4f}\")\n",
    "print(f\"Test Accuracy: {test_acc:.4f}\")\n",
    "print(f\"Accuracy Gap: {abs(train_acc - test_acc):.4f} ({generalization})\")\n",
    "print(f\"Model Performance: {model_status}\")"
   ]
  },
  {
   "cell_type": "markdown",
   "id": "576bb193",
   "metadata": {},
   "source": [
    "## ROC-Curve"
   ]
  },
  {
   "cell_type": "code",
   "execution_count": 18,
   "id": "9bafd20f",
   "metadata": {},
   "outputs": [],
   "source": [
    "# roc curve for training and testing set\n",
    "train_fpr, train_tpr, _ = roc_curve(y_train, train_proba)\n",
    "test_fpr, test_tpr, _ = roc_curve(y_test, test_proba)"
   ]
  },
  {
   "cell_type": "code",
   "execution_count": 19,
   "id": "d3bf0022",
   "metadata": {},
   "outputs": [],
   "source": [
    "# calculate AUC for training and testing set\n",
    "train_auc = auc(train_fpr, train_tpr)\n",
    "test_auc = auc(test_fpr, test_tpr)"
   ]
  },
  {
   "cell_type": "markdown",
   "id": "d20ea08d",
   "metadata": {},
   "source": [
    "**NOTE:** We can use training and test AUC-ROC (`roc_auc_score`) values to plot ROC curves"
   ]
  },
  {
   "cell_type": "code",
   "execution_count": 20,
   "id": "915f822d",
   "metadata": {},
   "outputs": [
    {
     "data": {
      "image/png": "[encoded data removed]",
      "text/plain": [
       "<Figure size 800x400 with 1 Axes>"
      ]
     },
     "metadata": {},
     "output_type": "display_data"
    }
   ],
   "source": [
    "# figure size\n",
    "plt.figure(figsize=(8, 4))\n",
    "\n",
    "# ploting the curve\n",
    "plt.plot(train_fpr, train_tpr, label=f'Train (AUC = {train_auc:.3f})')\n",
    "plt.plot(test_fpr, test_tpr, label=f'Test (AUC = {test_auc:.3f})')\n",
    "plt.plot([0, 1], [0, 1], 'k--')\n",
    "\n",
    "# set labels\n",
    "plt.xlabel('False Positive Rate')\n",
    "plt.ylabel('True Positive Rate')\n",
    "plt.title('Logistic Regression (GridSearchCV) ROC Curves - Train vs Test',  y=1.02, fontsize=8)\n",
    "plt.legend()\n",
    "plt.show()"
   ]
  },
  {
   "cell_type": "markdown",
   "id": "1894bf50",
   "metadata": {},
   "source": [
    "## Confusion Matrix"
   ]
  },
  {
   "cell_type": "code",
   "execution_count": 21,
   "id": "4e15eefe",
   "metadata": {},
   "outputs": [],
   "source": [
    "# confusion matrix for training and test set\n",
    "train_cnf = confusion_matrix(y_train, train_pred)\n",
    "test_cnf = confusion_matrix(y_test, test_pred)"
   ]
  },
  {
   "cell_type": "code",
   "execution_count": 22,
   "id": "0348843f",
   "metadata": {},
   "outputs": [
    {
     "data": {
      "image/png": "[encoded data removed]",
      "text/plain": [
       "<Figure size 1000x400 with 4 Axes>"
      ]
     },
     "metadata": {},
     "output_type": "display_data"
    }
   ],
   "source": [
    "# visualize confusion matrices\n",
    "# number of subplots\n",
    "fig, axes = plt.subplots(1, 2, figsize=(10, 4))\n",
    "axes = axes.flatten()\n",
    "\n",
    "# confusion matrix for training set\n",
    "ax = axes[0]\n",
    "sns.heatmap(train_cnf, annot=True, fmt='d', cmap='viridis', ax=ax)\n",
    "\n",
    "# set labels\n",
    "ax.set_title(\"Training Set Confusion Matrix\", fontsize=10, y=1.05)\n",
    "ax.set_xlabel(\"Predicted\")\n",
    "ax.set_ylabel(\"Actual\")\n",
    "\n",
    "\n",
    "# confusion matrix for test set\n",
    "ax = axes[1]\n",
    "sns.heatmap(test_cnf, annot=True, fmt='d', cmap='viridis', ax=ax)\n",
    "\n",
    "# set labels\n",
    "ax.set_title(\"Test Set Confusion Matrix\", fontsize=10, y=1.05)\n",
    "ax.set_xlabel(\"Predicted\")\n",
    "ax.set_ylabel(\"Actual\")\n",
    "\n",
    "# ========== Layout ==========\n",
    "plt.suptitle(f\"Confusion Matrices for Logistic Regression Model Evaluation (Train vs Test)\", y=1.02, fontsize=16, fontweight='bold')\n",
    "plt.tight_layout()\n",
    "plt.show()"
   ]
  },
  {
   "cell_type": "markdown",
   "id": "95cb11b6",
   "metadata": {},
   "source": [
    "## Cross-Validation Scores"
   ]
  },
  {
   "cell_type": "code",
   "execution_count": 23,
   "id": "8743bf23",
   "metadata": {},
   "outputs": [],
   "source": [
    "# calucate cross-validation scores\n",
    "cv_scores = cross_val_score(best_model, x, y, cv=cv, scoring=scoring_metrics)\n",
    "cv_mean = cv_scores.mean()\n",
    "cv_std = cv_scores.std()"
   ]
  },
  {
   "cell_type": "code",
   "execution_count": 24,
   "id": "57cc9535",
   "metadata": {},
   "outputs": [],
   "source": [
    "# create dataframe\n",
    "cv_df = pd.DataFrame({\n",
    "    \"Model\": \"Logistic Regression (GridSearchCV)\",\n",
    "    \"CV Mean\": [cv_mean],\n",
    "    \"CV Std\": [cv_std]\n",
    "}).round(3)"
   ]
  },
  {
   "cell_type": "code",
   "execution_count": 25,
   "id": "8eccaddb",
   "metadata": {},
   "outputs": [
    {
     "data": {
      "text/html": [
       "<div>\n",
       "<style scoped>\n",
       "    .dataframe tbody tr th:only-of-type {\n",
       "        vertical-align: middle;\n",
       "    }\n",
       "\n",
       "    .dataframe tbody tr th {\n",
       "        vertical-align: top;\n",
       "    }\n",
       "\n",
       "    .dataframe thead th {\n",
       "        text-align: right;\n",
       "    }\n",
       "</style>\n",
       "<table border=\"1\" class=\"dataframe\">\n",
       "  <thead>\n",
       "    <tr style=\"text-align: right;\">\n",
       "      <th></th>\n",
       "      <th>Model</th>\n",
       "      <th>CV Mean</th>\n",
       "      <th>CV Std</th>\n",
       "    </tr>\n",
       "  </thead>\n",
       "  <tbody>\n",
       "    <tr>\n",
       "      <th>0</th>\n",
       "      <td>Logistic Regression (GridSearchCV)</td>\n",
       "      <td>0.776</td>\n",
       "      <td>0.028</td>\n",
       "    </tr>\n",
       "  </tbody>\n",
       "</table>\n",
       "</div>"
      ],
      "text/plain": [
       "                                Model  CV Mean  CV Std\n",
       "0  Logistic Regression (GridSearchCV)    0.776   0.028"
      ]
     },
     "execution_count": 25,
     "metadata": {},
     "output_type": "execute_result"
    }
   ],
   "source": [
    "cv_df"
   ]
  },
  {
   "cell_type": "markdown",
   "id": "c85e40fb",
   "metadata": {},
   "source": [
    "## Overfitting Analysis"
   ]
  },
  {
   "cell_type": "code",
   "execution_count": 26,
   "id": "52dba3df",
   "metadata": {},
   "outputs": [],
   "source": [
    "# overfitting gap\n",
    "overfitting_gap = abs(train_auc_roc - test_auc_roc)\n",
    "\n",
    "# overfitting status\n",
    "overfit_status = \"High\" if overfitting_gap > 0.6 else \"Medium\" if overfitting_gap > 0.4 else \"Low\"\n",
    "\n",
    "# overfitting dictionary\n",
    "overfit_model = pd.DataFrame({\n",
    "    'Model': ['Logistic Regression (GridSearchCV)'],\n",
    "    'AUC-ROC Gap': [abs(train_auc_roc - test_auc_roc)],\n",
    "    'AUC-PR Gap': [abs(train_auc_pr - test_auc_pr)],\n",
    "    'Precision Gap': [abs(train_precision - test_precision)],\n",
    "    'Recall Gap': [abs(train_recall - test_recall)],\n",
    "    'F1-Score Gap': [abs(train_f1 - test_f1)],\n",
    "    'Accuracy Gap': [abs(train_acc - test_acc)],\n",
    "    'Overfitting Status': [overfit_status]\n",
    "}).round(3)\n"
   ]
  },
  {
   "cell_type": "code",
   "execution_count": 27,
   "id": "54fba665",
   "metadata": {},
   "outputs": [
    {
     "name": "stdout",
     "output_type": "stream",
     "text": [
      "                                                === Overfitting Analysis Table ===                                                \n"
     ]
    },
    {
     "data": {
      "text/html": [
       "<div>\n",
       "<style scoped>\n",
       "    .dataframe tbody tr th:only-of-type {\n",
       "        vertical-align: middle;\n",
       "    }\n",
       "\n",
       "    .dataframe tbody tr th {\n",
       "        vertical-align: top;\n",
       "    }\n",
       "\n",
       "    .dataframe thead th {\n",
       "        text-align: right;\n",
       "    }\n",
       "</style>\n",
       "<table border=\"1\" class=\"dataframe\">\n",
       "  <thead>\n",
       "    <tr style=\"text-align: right;\">\n",
       "      <th></th>\n",
       "      <th>Model</th>\n",
       "      <th>AUC-ROC Gap</th>\n",
       "      <th>AUC-PR Gap</th>\n",
       "      <th>Precision Gap</th>\n",
       "      <th>Recall Gap</th>\n",
       "      <th>F1-Score Gap</th>\n",
       "      <th>Accuracy Gap</th>\n",
       "      <th>Overfitting Status</th>\n",
       "    </tr>\n",
       "  </thead>\n",
       "  <tbody>\n",
       "    <tr>\n",
       "      <th>0</th>\n",
       "      <td>Logistic Regression (GridSearchCV)</td>\n",
       "      <td>0.102</td>\n",
       "      <td>0.065</td>\n",
       "      <td>0.068</td>\n",
       "      <td>0.003</td>\n",
       "      <td>0.036</td>\n",
       "      <td>0.059</td>\n",
       "      <td>Low</td>\n",
       "    </tr>\n",
       "  </tbody>\n",
       "</table>\n",
       "</div>"
      ],
      "text/plain": [
       "                                Model  AUC-ROC Gap  AUC-PR Gap  Precision Gap  \\\n",
       "0  Logistic Regression (GridSearchCV)        0.102       0.065          0.068   \n",
       "\n",
       "   Recall Gap  F1-Score Gap  Accuracy Gap Overfitting Status  \n",
       "0       0.003         0.036         0.059                Low  "
      ]
     },
     "execution_count": 27,
     "metadata": {},
     "output_type": "execute_result"
    }
   ],
   "source": [
    "print(\"=== Overfitting Analysis Table ===\".center(130))\n",
    "overfit_model"
   ]
  },
  {
   "cell_type": "markdown",
   "id": "ec9ad667",
   "metadata": {},
   "source": [
    "## Model Scoring"
   ]
  },
  {
   "cell_type": "code",
   "execution_count": 28,
   "id": "3e5ff1b9",
   "metadata": {},
   "outputs": [],
   "source": [
    "\"\"\" Composite score (higher is better) \"\"\"\n",
    "\n",
    "# Weighted combination: 30% CV mean, 15% low CV std, 15% test acc, 15% F1, 15% AUC, 10% low overfitting\n",
    "composite_score = (0.3 * cv_mean) + (0.15 * (1-cv_std)) + (0.15 * test_acc) + \\\n",
    "                      (0.15 * test_f1) + (0.15 * test_auc) + (0.1 * (1-overfitting_gap))"
   ]
  },
  {
   "cell_type": "code",
   "execution_count": 29,
   "id": "6f388275",
   "metadata": {},
   "outputs": [],
   "source": [
    "model_score = pd.DataFrame({\n",
    "    'Model': ['Logistic Regression (GridSearchCV)'],\n",
    "    'CV Mean': [cv_mean],\n",
    "    'CV Std': [cv_std],\n",
    "    'Test Accuracy': [test_acc],\n",
    "    'Test F1-Score': [test_f1],\n",
    "    'Test AUC': [test_auc_roc],\n",
    "    'Overfitting Gap': [overfitting_gap],\n",
    "    'Composite Score': [composite_score]\n",
    "}).round(3)"
   ]
  },
  {
   "cell_type": "code",
   "execution_count": 30,
   "id": "d01619f9",
   "metadata": {},
   "outputs": [
    {
     "name": "stdout",
     "output_type": "stream",
     "text": [
      "                                                    === Model Score Table ===                                                     \n"
     ]
    },
    {
     "data": {
      "text/html": [
       "<div>\n",
       "<style scoped>\n",
       "    .dataframe tbody tr th:only-of-type {\n",
       "        vertical-align: middle;\n",
       "    }\n",
       "\n",
       "    .dataframe tbody tr th {\n",
       "        vertical-align: top;\n",
       "    }\n",
       "\n",
       "    .dataframe thead th {\n",
       "        text-align: right;\n",
       "    }\n",
       "</style>\n",
       "<table border=\"1\" class=\"dataframe\">\n",
       "  <thead>\n",
       "    <tr style=\"text-align: right;\">\n",
       "      <th></th>\n",
       "      <th>Model</th>\n",
       "      <th>CV Mean</th>\n",
       "      <th>CV Std</th>\n",
       "      <th>Test Accuracy</th>\n",
       "      <th>Test F1-Score</th>\n",
       "      <th>Test AUC</th>\n",
       "      <th>Overfitting Gap</th>\n",
       "      <th>Composite Score</th>\n",
       "    </tr>\n",
       "  </thead>\n",
       "  <tbody>\n",
       "    <tr>\n",
       "      <th>0</th>\n",
       "      <td>Logistic Regression (GridSearchCV)</td>\n",
       "      <td>0.776</td>\n",
       "      <td>0.028</td>\n",
       "      <td>0.821</td>\n",
       "      <td>0.867</td>\n",
       "      <td>0.879</td>\n",
       "      <td>0.102</td>\n",
       "      <td>0.853</td>\n",
       "    </tr>\n",
       "  </tbody>\n",
       "</table>\n",
       "</div>"
      ],
      "text/plain": [
       "                                Model  CV Mean  CV Std  Test Accuracy  \\\n",
       "0  Logistic Regression (GridSearchCV)    0.776   0.028          0.821   \n",
       "\n",
       "   Test F1-Score  Test AUC  Overfitting Gap  Composite Score  \n",
       "0          0.867     0.879            0.102            0.853  "
      ]
     },
     "execution_count": 30,
     "metadata": {},
     "output_type": "execute_result"
    }
   ],
   "source": [
    "print(\"=== Model Score Table ===\".center(130))\n",
    "model_score"
   ]
  },
  {
   "cell_type": "markdown",
   "id": "ebffbfe5",
   "metadata": {},
   "source": [
    "## Persist Model and Final Performance Table"
   ]
  },
  {
   "cell_type": "code",
   "execution_count": 31,
   "id": "777ad91d",
   "metadata": {},
   "outputs": [],
   "source": [
    "# overall model performance\n",
    "perf_df = pd.DataFrame({\n",
    "    'Model': ['Logistic Regression (GridSearchCV)'],\n",
    "    'AUC-ROC': [test_auc_roc],\n",
    "    'AUC-PR': [test_auc_pr],\n",
    "    'Precision': [test_precision],\n",
    "    'Recall': [test_recall],\n",
    "    'F1-Score': [test_f1],\n",
    "    'Accuracy': [test_acc],\n",
    "    'CV AUC-ROC Mean': [cv_mean],\n",
    "    'CV AUC-ROC Std': [cv_std],\n",
    "    'AUC-ROC (Overfit) Gap': [overfitting_gap],\n",
    "    'Composite Score': [composite_score],\n",
    "    'Overfitting Status': [overfit_status],\n",
    "    'Model Status': [model_status],\n",
    "}).round(3)"
   ]
  },
  {
   "cell_type": "code",
   "execution_count": 32,
   "id": "65161c0c",
   "metadata": {},
   "outputs": [
    {
     "data": {
      "text/html": [
       "<div>\n",
       "<style scoped>\n",
       "    .dataframe tbody tr th:only-of-type {\n",
       "        vertical-align: middle;\n",
       "    }\n",
       "\n",
       "    .dataframe tbody tr th {\n",
       "        vertical-align: top;\n",
       "    }\n",
       "\n",
       "    .dataframe thead th {\n",
       "        text-align: right;\n",
       "    }\n",
       "</style>\n",
       "<table border=\"1\" class=\"dataframe\">\n",
       "  <thead>\n",
       "    <tr style=\"text-align: right;\">\n",
       "      <th></th>\n",
       "      <th>Model</th>\n",
       "      <th>AUC-ROC</th>\n",
       "      <th>AUC-PR</th>\n",
       "      <th>Precision</th>\n",
       "      <th>Recall</th>\n",
       "      <th>F1-Score</th>\n",
       "      <th>Accuracy</th>\n",
       "      <th>CV AUC-ROC Mean</th>\n",
       "      <th>CV AUC-ROC Std</th>\n",
       "      <th>AUC-ROC (Overfit) Gap</th>\n",
       "      <th>Composite Score</th>\n",
       "      <th>Overfitting Status</th>\n",
       "      <th>Model Status</th>\n",
       "    </tr>\n",
       "  </thead>\n",
       "  <tbody>\n",
       "    <tr>\n",
       "      <th>0</th>\n",
       "      <td>Logistic Regression (GridSearchCV)</td>\n",
       "      <td>0.879</td>\n",
       "      <td>0.923</td>\n",
       "      <td>0.878</td>\n",
       "      <td>0.857</td>\n",
       "      <td>0.867</td>\n",
       "      <td>0.821</td>\n",
       "      <td>0.776</td>\n",
       "      <td>0.028</td>\n",
       "      <td>0.102</td>\n",
       "      <td>0.853</td>\n",
       "      <td>Low</td>\n",
       "      <td>Fair</td>\n",
       "    </tr>\n",
       "  </tbody>\n",
       "</table>\n",
       "</div>"
      ],
      "text/plain": [
       "                                Model  AUC-ROC  AUC-PR  Precision  Recall  \\\n",
       "0  Logistic Regression (GridSearchCV)    0.879   0.923      0.878   0.857   \n",
       "\n",
       "   F1-Score  Accuracy  CV AUC-ROC Mean  CV AUC-ROC Std  AUC-ROC (Overfit) Gap  \\\n",
       "0     0.867     0.821            0.776           0.028                  0.102   \n",
       "\n",
       "   Composite Score Overfitting Status Model Status  \n",
       "0            0.853                Low         Fair  "
      ]
     },
     "execution_count": 32,
     "metadata": {},
     "output_type": "execute_result"
    }
   ],
   "source": [
    "perf_df"
   ]
  },
  {
   "cell_type": "code",
   "execution_count": 33,
   "id": "69af2083",
   "metadata": {},
   "outputs": [],
   "source": [
    "# save model performance\n",
    "performance_path = model_performance_dir / \"logisticRegressionPerformance.csv\"\n",
    "\n",
    "# convert performance dataframe to csv\n",
    "performance_df.to_csv(performance_path, index=False)"
   ]
  },
  {
   "cell_type": "code",
   "execution_count": 34,
   "id": "7e5fcc1f",
   "metadata": {},
   "outputs": [],
   "source": [
    "# save Cross Validation score for all models\n",
    "cv_path = model_performance_dir / \"a_CrossValidationScore.csv\"\n",
    "\n",
    "cv_df.to_csv(cv_path, index=False)"
   ]
  },
  {
   "cell_type": "code",
   "execution_count": 35,
   "id": "c6650f6b",
   "metadata": {},
   "outputs": [],
   "source": [
    "# overfitting analysis table\n",
    "overfit_path = model_performance_dir / \"a_OverfittingAnalysis.csv\"\n",
    "\n",
    "overfit_model.to_csv(overfit_path, index=False)"
   ]
  },
  {
   "cell_type": "code",
   "execution_count": 36,
   "id": "76a296d6",
   "metadata": {},
   "outputs": [],
   "source": [
    "# add to model scores table\n",
    "model_score_path = model_performance_dir / \"a_ModelsScores.csv\"\n",
    "\n",
    "model_score.to_csv(model_score_path, index=False)"
   ]
  },
  {
   "cell_type": "code",
   "execution_count": 37,
   "id": "584fea59",
   "metadata": {},
   "outputs": [],
   "source": [
    "# model comparison table\n",
    "model_perf_path = model_performance_dir / \"a_ModelsPerformance.csv\"\n",
    "\n",
    "perf_df.to_csv(model_perf_path, index=False)\n"
   ]
  },
  {
   "cell_type": "code",
   "execution_count": 38,
   "id": "47af855c",
   "metadata": {},
   "outputs": [],
   "source": [
    "#  saved model and test probabilities\n",
    "joblib.dump(best_model, model_dir / \"logisticRegression.pkl\")\n",
    "np.save(model_dir / \"logisticRegression_testProba.npy\", test_proba)"
   ]
  }
 ],
 "metadata": {
  "kernelspec": {
   "display_name": "Python 3",
   "language": "python",
   "name": "python3"
  },
  "language_info": {
   "codemirror_mode": {
    "name": "ipython",
    "version": 3
   },
   "file_extension": ".py",
   "mimetype": "text/x-python",
   "name": "python",
   "nbconvert_exporter": "python",
   "pygments_lexer": "ipython3",
   "version": "3.10.0"
  }
 },
 "nbformat": 4,
 "nbformat_minor": 5
}
